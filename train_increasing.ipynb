{
 "cells": [
  {
   "cell_type": "code",
   "execution_count": 1,
   "metadata": {},
   "outputs": [],
   "source": [
    "max_n_image = 192560\n",
    "max_n_image_not_nan = 42560"
   ]
  },
  {
   "cell_type": "code",
   "execution_count": 2,
   "metadata": {},
   "outputs": [
    {
     "name": "stderr",
     "output_type": "stream",
     "text": [
      "Using TensorFlow backend.\n"
     ]
    }
   ],
   "source": [
    "from Model import SegNetModel, RetrainedClassificationModel\n",
    "from HyperparameterOptimization import findOptimalBatchSize"
   ]
  },
  {
   "cell_type": "code",
   "execution_count": 3,
   "metadata": {},
   "outputs": [],
   "source": [
    "from math import log, ceil\n",
    "import numpy as np"
   ]
  },
  {
   "cell_type": "code",
   "execution_count": null,
   "metadata": {},
   "outputs": [
    {
     "name": "stderr",
     "output_type": "stream",
     "text": [
      "/home/jupyter/Airbus-Ship-Detection-Challenge/Model/RetrainedClassificationModel.py:34: UserWarning: Update your `Model` call to the Keras 2 API: `Model(outputs=Tensor(\"fl..., inputs=Tensor(\"in...)`\n",
      "  self.model = Model(input=model.input, output=predictions)\n"
     ]
    },
    {
     "name": "stdout",
     "output_type": "stream",
     "text": [
      "Epoch 1/1000\n",
      "23/23 [==============================] - 36s 2s/step - loss: 0.3245 - precision: 0.0000e+00 - recall: 0.0000e+00 - f1: 0.0000e+00 - val_loss: 0.2124 - val_precision: 0.0000e+00 - val_recall: 0.0000e+00 - val_f1: 0.0000e+00\n",
      "Epoch 2/1000\n",
      "23/23 [==============================] - 26s 1s/step - loss: 0.1882 - precision: 0.0000e+00 - recall: 0.0000e+00 - f1: 0.0000e+00 - val_loss: 0.1780 - val_precision: 0.0000e+00 - val_recall: 0.0000e+00 - val_f1: 0.0000e+00\n",
      "Epoch 3/1000\n",
      "23/23 [==============================] - 27s 1s/step - loss: 0.1638 - precision: 0.0000e+00 - recall: 0.0000e+00 - f1: 0.0000e+00 - val_loss: 0.1591 - val_precision: 0.0000e+00 - val_recall: 0.0000e+00 - val_f1: 0.0000e+00\n",
      "Epoch 4/1000\n",
      "23/23 [==============================] - 28s 1s/step - loss: 0.1509 - precision: 0.0000e+00 - recall: 0.0000e+00 - f1: 0.0000e+00 - val_loss: 0.1426 - val_precision: 0.0000e+00 - val_recall: 0.0000e+00 - val_f1: 0.0000e+00\n",
      "Epoch 5/1000\n",
      "23/23 [==============================] - 27s 1s/step - loss: 0.1368 - precision: 0.0000e+00 - recall: 0.0000e+00 - f1: 0.0000e+00 - val_loss: 0.1241 - val_precision: 0.0000e+00 - val_recall: 0.0000e+00 - val_f1: 0.0000e+00\n",
      "Epoch 6/1000\n",
      "23/23 [==============================] - 27s 1s/step - loss: 0.1211 - precision: 0.0000e+00 - recall: 0.0000e+00 - f1: 0.0000e+00 - val_loss: 0.1099 - val_precision: 0.0000e+00 - val_recall: 0.0000e+00 - val_f1: 0.0000e+00\n",
      "Epoch 7/1000\n",
      "23/23 [==============================] - 26s 1s/step - loss: 0.1043 - precision: 0.0000e+00 - recall: 0.0000e+00 - f1: 0.0000e+00 - val_loss: 0.0933 - val_precision: 0.0000e+00 - val_recall: 0.0000e+00 - val_f1: 0.0000e+00\n",
      "Epoch 8/1000\n",
      "23/23 [==============================] - 26s 1s/step - loss: 0.0896 - precision: 0.0000e+00 - recall: 0.0000e+00 - f1: 0.0000e+00 - val_loss: 0.0847 - val_precision: 0.0000e+00 - val_recall: 0.0000e+00 - val_f1: 0.0000e+00\n",
      "Epoch 9/1000\n",
      "23/23 [==============================] - 26s 1s/step - loss: 0.0818 - precision: 0.0000e+00 - recall: 0.0000e+00 - f1: 0.0000e+00 - val_loss: 0.0751 - val_precision: 0.0000e+00 - val_recall: 0.0000e+00 - val_f1: 0.0000e+00\n",
      "Epoch 10/1000\n",
      "23/23 [==============================] - 26s 1s/step - loss: 0.0761 - precision: 0.0000e+00 - recall: 0.0000e+00 - f1: 0.0000e+00 - val_loss: 0.0713 - val_precision: 0.0000e+00 - val_recall: 0.0000e+00 - val_f1: 0.0000e+00\n",
      "Epoch 11/1000\n",
      "23/23 [==============================] - 26s 1s/step - loss: 0.0730 - precision: 0.0000e+00 - recall: 0.0000e+00 - f1: 0.0000e+00 - val_loss: 0.0714 - val_precision: 0.0000e+00 - val_recall: 0.0000e+00 - val_f1: 0.0000e+00\n",
      "Epoch 12/1000\n",
      "23/23 [==============================] - 26s 1s/step - loss: 0.0701 - precision: 0.0000e+00 - recall: 0.0000e+00 - f1: 0.0000e+00 - val_loss: 0.0675 - val_precision: 0.0000e+00 - val_recall: 0.0000e+00 - val_f1: 0.0000e+00\n",
      "Epoch 13/1000\n",
      "23/23 [==============================] - 26s 1s/step - loss: 0.0659 - precision: 0.0000e+00 - recall: 0.0000e+00 - f1: 0.0000e+00 - val_loss: 0.0650 - val_precision: 0.0000e+00 - val_recall: 0.0000e+00 - val_f1: 0.0000e+00\n",
      "Epoch 14/1000\n",
      "23/23 [==============================] - 26s 1s/step - loss: 0.0624 - precision: 0.0000e+00 - recall: 0.0000e+00 - f1: 0.0000e+00 - val_loss: 0.0630 - val_precision: 0.0000e+00 - val_recall: 0.0000e+00 - val_f1: 0.0000e+00\n",
      "Epoch 15/1000\n",
      "23/23 [==============================] - 27s 1s/step - loss: 0.0604 - precision: 0.0000e+00 - recall: 0.0000e+00 - f1: 0.0000e+00 - val_loss: 0.0616 - val_precision: 0.0000e+00 - val_recall: 0.0000e+00 - val_f1: 0.0000e+00\n",
      "Epoch 16/1000\n",
      "23/23 [==============================] - 26s 1s/step - loss: 0.0590 - precision: 0.0000e+00 - recall: 0.0000e+00 - f1: 0.0000e+00 - val_loss: 0.0630 - val_precision: 0.0000e+00 - val_recall: 0.0000e+00 - val_f1: 0.0000e+00\n",
      "Epoch 17/1000\n",
      "23/23 [==============================] - 26s 1s/step - loss: 0.0574 - precision: 0.0000e+00 - recall: 0.0000e+00 - f1: 0.0000e+00 - val_loss: 0.0603 - val_precision: 0.0000e+00 - val_recall: 0.0000e+00 - val_f1: 0.0000e+00\n",
      "Epoch 18/1000\n",
      "23/23 [==============================] - 26s 1s/step - loss: 0.0560 - precision: 0.0000e+00 - recall: 0.0000e+00 - f1: 0.0000e+00 - val_loss: 0.0603 - val_precision: 0.0000e+00 - val_recall: 0.0000e+00 - val_f1: 0.0000e+00\n",
      "Epoch 19/1000\n",
      "23/23 [==============================] - 26s 1s/step - loss: 0.0554 - precision: 0.0000e+00 - recall: 0.0000e+00 - f1: 0.0000e+00 - val_loss: 0.0612 - val_precision: 0.0000e+00 - val_recall: 0.0000e+00 - val_f1: 0.0000e+00\n",
      "Epoch 20/1000\n",
      "23/23 [==============================] - 26s 1s/step - loss: 0.0544 - precision: 0.0000e+00 - recall: 0.0000e+00 - f1: 0.0000e+00 - val_loss: 0.0596 - val_precision: 0.0000e+00 - val_recall: 0.0000e+00 - val_f1: 0.0000e+00\n",
      "Epoch 21/1000\n",
      "23/23 [==============================] - 26s 1s/step - loss: 0.0532 - precision: 0.0000e+00 - recall: 0.0000e+00 - f1: 0.0000e+00 - val_loss: 0.0588 - val_precision: 0.0000e+00 - val_recall: 0.0000e+00 - val_f1: 0.0000e+00\n",
      "Epoch 22/1000\n",
      "23/23 [==============================] - 26s 1s/step - loss: 0.0521 - precision: 0.0000e+00 - recall: 0.0000e+00 - f1: 0.0000e+00 - val_loss: 0.0596 - val_precision: 0.0000e+00 - val_recall: 0.0000e+00 - val_f1: 0.0000e+00\n",
      "Epoch 23/1000\n",
      "23/23 [==============================] - 26s 1s/step - loss: 0.0519 - precision: 0.0000e+00 - recall: 0.0000e+00 - f1: 0.0000e+00 - val_loss: 0.0598 - val_precision: 0.0000e+00 - val_recall: 0.0000e+00 - val_f1: 0.0000e+00\n",
      "Epoch 24/1000\n",
      "23/23 [==============================] - 26s 1s/step - loss: 0.0517 - precision: 0.5626 - recall: 0.4610 - f1: 0.5063 - val_loss: 0.0608 - val_precision: 0.7439 - val_recall: 0.5121 - val_f1: 0.6063\n",
      "Epoch 25/1000\n",
      "23/23 [==============================] - 26s 1s/step - loss: 0.0545 - precision: 0.7397 - recall: 0.6057 - f1: 0.6643 - val_loss: 0.0596 - val_precision: 0.7012 - val_recall: 0.5962 - val_f1: 0.6441\n",
      "Epoch 26/1000\n",
      "23/23 [==============================] - 27s 1s/step - loss: 0.0511 - precision: 0.7619 - recall: 0.6407 - f1: 0.6950 - val_loss: 0.0584 - val_precision: 0.7458 - val_recall: 0.5669 - val_f1: 0.6439\n",
      "Epoch 27/1000\n",
      "23/23 [==============================] - 27s 1s/step - loss: 0.0485 - precision: 0.7818 - recall: 0.6650 - f1: 0.7176 - val_loss: 0.0577 - val_precision: 0.6832 - val_recall: 0.6613 - val_f1: 0.6719\n",
      "Epoch 28/1000\n",
      "23/23 [==============================] - 26s 1s/step - loss: 0.0470 - precision: 0.7904 - recall: 0.6862 - f1: 0.7337 - val_loss: 0.0569 - val_precision: 0.7463 - val_recall: 0.6145 - val_f1: 0.6738\n",
      "Epoch 29/1000\n",
      "23/23 [==============================] - 26s 1s/step - loss: 0.0456 - precision: 0.7988 - recall: 0.7025 - f1: 0.7471 - val_loss: 0.0569 - val_precision: 0.7832 - val_recall: 0.5979 - val_f1: 0.6779\n",
      "Epoch 30/1000\n",
      "23/23 [==============================] - 27s 1s/step - loss: 0.0449 - precision: 0.8002 - recall: 0.7113 - f1: 0.7525 - val_loss: 0.0566 - val_precision: 0.7448 - val_recall: 0.6282 - val_f1: 0.6810\n",
      "Epoch 31/1000\n",
      "23/23 [==============================] - 26s 1s/step - loss: 0.0443 - precision: 0.7988 - recall: 0.7202 - f1: 0.7570 - val_loss: 0.0566 - val_precision: 0.7420 - val_recall: 0.6449 - val_f1: 0.6897\n",
      "Epoch 32/1000\n",
      "23/23 [==============================] - 26s 1s/step - loss: 0.0437 - precision: 0.8045 - recall: 0.7250 - f1: 0.7621 - val_loss: 0.0573 - val_precision: 0.7591 - val_recall: 0.6242 - val_f1: 0.6845\n",
      "Epoch 33/1000\n",
      "23/23 [==============================] - 26s 1s/step - loss: 0.0440 - precision: 0.7956 - recall: 0.7313 - f1: 0.7611 - val_loss: 0.0571 - val_precision: 0.7311 - val_recall: 0.6453 - val_f1: 0.6853\n",
      "Epoch 34/1000\n",
      "23/23 [==============================] - 26s 1s/step - loss: 0.0434 - precision: 0.8000 - recall: 0.7345 - f1: 0.7651 - val_loss: 0.0578 - val_precision: 0.7786 - val_recall: 0.6057 - val_f1: 0.6809\n",
      "Epoch 35/1000\n",
      "23/23 [==============================] - 26s 1s/step - loss: 0.0417 - precision: 0.8175 - recall: 0.7456 - f1: 0.7794 - val_loss: 0.0562 - val_precision: 0.7772 - val_recall: 0.6397 - val_f1: 0.7014\n",
      "Epoch 36/1000\n",
      "23/23 [==============================] - 26s 1s/step - loss: 0.0407 - precision: 0.8224 - recall: 0.7601 - f1: 0.7894 - val_loss: 0.0564 - val_precision: 0.7600 - val_recall: 0.6618 - val_f1: 0.7073\n",
      "Epoch 37/1000\n",
      "23/23 [==============================] - 26s 1s/step - loss: 0.0394 - precision: 0.8306 - recall: 0.7721 - f1: 0.7999 - val_loss: 0.0557 - val_precision: 0.7357 - val_recall: 0.6870 - val_f1: 0.7103\n",
      "Epoch 38/1000\n",
      "23/23 [==============================] - 26s 1s/step - loss: 0.0390 - precision: 0.8254 - recall: 0.7787 - f1: 0.8009 - val_loss: 0.0588 - val_precision: 0.7761 - val_recall: 0.6412 - val_f1: 0.7020\n",
      "Epoch 39/1000\n",
      "23/23 [==============================] - 26s 1s/step - loss: 0.0388 - precision: 0.8251 - recall: 0.7829 - f1: 0.8029 - val_loss: 0.0562 - val_precision: 0.7491 - val_recall: 0.6747 - val_f1: 0.7096\n",
      "Epoch 40/1000\n",
      "23/23 [==============================] - 26s 1s/step - loss: 0.0377 - precision: 0.8333 - recall: 0.7896 - f1: 0.8106 - val_loss: 0.0590 - val_precision: 0.7665 - val_recall: 0.6668 - val_f1: 0.7129\n",
      "Epoch 41/1000\n",
      " 3/23 [==>...........................] - ETA: 16s - loss: 0.0363 - precision: 0.8529 - recall: 0.8053 - f1: 0.8280"
     ]
    }
   ],
   "source": [
    "model = RetrainedClassificationModel('noname')\n",
    "bs = 32 # findOptimalBatchSize(model, 128, save_excel=False)\n",
    "acc_arr = []\n",
    "hst_arr = []\n",
    "for reduce_size in np.array(2) ** range(10, int(ceil(log(max_n_image_not_nan, 2))) + 1):\n",
    "    reduce_size = min(reduce_size, max_n_image_not_nan)\n",
    "    hst = model.train(bs, n_epoch=1000, reduced_size=reduce_size)\n",
    "    hst_arr.append(hst)\n",
    "    model.model.save(str(reduce_size) + '.hd5')\n",
    "    acc = model.eval(bs, remove_nan=False)\n",
    "    acc_arr.append(acc)\n",
    "    print(reduce_size, acc)"
   ]
  },
  {
   "cell_type": "code",
   "execution_count": null,
   "metadata": {},
   "outputs": [],
   "source": [
    "hst = model.train(bs, n_epoch=1000, remove_nan=False)\n",
    "model.model.save('alldata.hd5')\n",
    "acc.append(model.eval(bs, remove_nan=False))"
   ]
  },
  {
   "cell_type": "code",
   "execution_count": null,
   "metadata": {},
   "outputs": [],
   "source": []
  }
 ],
 "metadata": {
  "kernelspec": {
   "display_name": "Python 3",
   "language": "python",
   "name": "python3"
  },
  "language_info": {
   "codemirror_mode": {
    "name": "ipython",
    "version": 3
   },
   "file_extension": ".py",
   "mimetype": "text/x-python",
   "name": "python",
   "nbconvert_exporter": "python",
   "pygments_lexer": "ipython3",
   "version": "3.5.3"
  }
 },
 "nbformat": 4,
 "nbformat_minor": 2
}
