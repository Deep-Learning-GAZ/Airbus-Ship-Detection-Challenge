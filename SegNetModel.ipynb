{
 "cells": [
  {
   "cell_type": "code",
   "execution_count": 1,
   "metadata": {},
   "outputs": [
    {
     "name": "stderr",
     "output_type": "stream",
     "text": [
      "Using TensorFlow backend.\n"
     ]
    }
   ],
   "source": [
    "from Model import SegNetModel\n",
    "from HyperparameterOptimization import findOptimalBatchSize"
   ]
  },
  {
   "cell_type": "code",
   "execution_count": 2,
   "metadata": {},
   "outputs": [
    {
     "name": "stdout",
     "output_type": "stream",
     "text": [
      "Done building decoder..\n",
      "Testing batch size 128\n",
      "Epoch 1/1\n",
      "ResourceExhaustedError\n",
      "Testing batch size 64\n",
      "Epoch 1/1\n",
      "ResourceExhaustedError\n",
      "Testing batch size 32\n",
      "Epoch 1/1\n",
      "ResourceExhaustedError\n",
      "Testing batch size 16\n",
      "Epoch 1/1\n",
      "ResourceExhaustedError\n",
      "Testing batch size 8\n",
      "Epoch 1/1\n",
      "ResourceExhaustedError\n",
      "Testing batch size 4\n",
      "Epoch 1/1\n",
      "88/88 [==============================] - 98s 1s/step - loss: 0.0560 - val_loss: 0.0510\n",
      "Testing batch size 2\n",
      "Epoch 1/1\n",
      "176/176 [==============================] - 102s 582ms/step - loss: 0.0553 - val_loss: 0.0509\n",
      "Optimum 4\n"
     ]
    }
   ],
   "source": [
    "model = SegNetModel('noname')\n",
    "bs = findOptimalBatchSize(model, 128, save_excel=False)\n",
    "print(\"Optimum\", bs)"
   ]
  },
  {
   "cell_type": "code",
   "execution_count": null,
   "metadata": {},
   "outputs": [
    {
     "name": "stdout",
     "output_type": "stream",
     "text": [
      "Done building decoder..\n",
      "Epoch 1/100\n",
      "7469/7469 [==============================] - 7768s 1s/step - loss: 0.0550 - val_loss: 0.0559\n",
      "Epoch 2/100\n",
      "7469/7469 [==============================] - 7841s 1s/step - loss: 0.0538 - val_loss: 0.0557\n",
      "Epoch 3/100\n",
      "7469/7469 [==============================] - 7865s 1s/step - loss: 0.0532 - val_loss: 0.0549\n",
      "Epoch 4/100\n",
      "7469/7469 [==============================] - 7842s 1s/step - loss: 0.0528 - val_loss: 0.0546\n",
      "Epoch 5/100\n",
      "7469/7469 [==============================] - 7863s 1s/step - loss: 0.0525 - val_loss: 0.0546\n",
      "Epoch 6/100\n",
      "7469/7469 [==============================] - 7868s 1s/step - loss: 0.0523 - val_loss: 0.0542\n",
      "Epoch 7/100\n",
      "7469/7469 [==============================] - 7930s 1s/step - loss: 0.0522 - val_loss: 0.0543\n",
      "Epoch 8/100\n",
      "7469/7469 [==============================] - 7859s 1s/step - loss: 0.0521 - val_loss: 0.0542\n",
      "Epoch 9/100\n",
      "7469/7469 [==============================] - 7855s 1s/step - loss: 0.0520 - val_loss: 0.0538\n",
      "Epoch 10/100\n",
      "7469/7469 [==============================] - 7870s 1s/step - loss: 0.0519 - val_loss: 0.0540\n",
      "Epoch 11/100\n",
      "7469/7469 [==============================] - 7871s 1s/step - loss: 0.0519 - val_loss: 0.0545\n",
      "Epoch 12/100\n",
      "7469/7469 [==============================] - 7867s 1s/step - loss: 0.0518 - val_loss: 0.0541\n",
      "Epoch 13/100\n",
      "7469/7469 [==============================] - 7853s 1s/step - loss: 0.0518 - val_loss: 0.0539\n",
      "Epoch 14/100\n",
      "7469/7469 [==============================] - 7859s 1s/step - loss: 0.0517 - val_loss: 0.0543\n",
      "Epoch 15/100\n",
      "7469/7469 [==============================] - 7847s 1s/step - loss: 0.0517 - val_loss: 0.0541\n",
      "Epoch 16/100\n",
      "7469/7469 [==============================] - 7850s 1s/step - loss: 0.0516 - val_loss: 0.0544\n",
      "Epoch 17/100\n",
      "6201/7469 [=======================>......] - ETA: 20:06 - loss: 0.0519"
     ]
    }
   ],
   "source": [
    "model = SegNetModel('noname')\n",
    "hst = model.train(bs, n_epoch=100)"
   ]
  },
  {
   "cell_type": "code",
   "execution_count": null,
   "metadata": {},
   "outputs": [],
   "source": []
  }
 ],
 "metadata": {
  "kernelspec": {
   "display_name": "Python 3",
   "language": "python",
   "name": "python3"
  },
  "language_info": {
   "codemirror_mode": {
    "name": "ipython",
    "version": 3
   },
   "file_extension": ".py",
   "mimetype": "text/x-python",
   "name": "python",
   "nbconvert_exporter": "python",
   "pygments_lexer": "ipython3",
   "version": "3.5.3"
  }
 },
 "nbformat": 4,
 "nbformat_minor": 2
}
