{
 "cells": [
  {
   "cell_type": "code",
   "execution_count": 1,
   "metadata": {},
   "outputs": [
    {
     "name": "stderr",
     "output_type": "stream",
     "text": [
      "Using TensorFlow backend.\n"
     ]
    }
   ],
   "source": [
    "from Model import SegNetModel\n",
    "from HyperparameterOptimization import findOptimalBatchSize"
   ]
  },
  {
   "cell_type": "code",
   "execution_count": 2,
   "metadata": {},
   "outputs": [
    {
     "name": "stdout",
     "output_type": "stream",
     "text": [
      "Done building decoder..\n",
      "Testing batch size 128\n",
      "Epoch 1/1\n",
      "ResourceExhaustedError\n",
      "Testing batch size 64\n",
      "Epoch 1/1\n",
      "ResourceExhaustedError\n",
      "Testing batch size 32\n",
      "Epoch 1/1\n",
      "ResourceExhaustedError\n",
      "Testing batch size 16\n",
      "Epoch 1/1\n",
      "ResourceExhaustedError\n",
      "Testing batch size 8\n",
      "Epoch 1/1\n",
      "ResourceExhaustedError\n",
      "Testing batch size 4\n",
      "Epoch 1/1\n",
      "88/88 [==============================] - 99s 1s/step - loss: 33103.4569 - val_loss: 29888.9883\n",
      "Testing batch size 2\n",
      "Epoch 1/1\n",
      "176/176 [==============================] - 104s 591ms/step - loss: 33062.0797 - val_loss: 30027.7324\n",
      "Optimum 4\n"
     ]
    }
   ],
   "source": [
    "model = SegNetModel('noname')\n",
    "bs = findOptimalBatchSize(model, 128, save_excel=False)\n",
    "print(\"Optimum\", bs)"
   ]
  },
  {
   "cell_type": "code",
   "execution_count": 3,
   "metadata": {},
   "outputs": [
    {
     "name": "stdout",
     "output_type": "stream",
     "text": [
      "Done building decoder..\n",
      "Epoch 1/100000\n",
      "176/176 [==============================] - 186s 1s/step - loss: 31680.0922 - val_loss: 36355.6336\n",
      "Epoch 2/100000\n",
      "176/176 [==============================] - 185s 1s/step - loss: 30682.4882 - val_loss: 35754.7212\n",
      "Epoch 3/100000\n",
      "176/176 [==============================] - 185s 1s/step - loss: 30432.4546 - val_loss: 36132.2081\n",
      "Epoch 4/100000\n",
      "176/176 [==============================] - 185s 1s/step - loss: 30270.1523 - val_loss: 35699.0249\n",
      "Epoch 5/100000\n",
      "176/176 [==============================] - 185s 1s/step - loss: 30038.4193 - val_loss: 35600.1327\n",
      "Epoch 6/100000\n",
      "176/176 [==============================] - 185s 1s/step - loss: 30053.0096 - val_loss: 35942.8690\n",
      "Epoch 7/100000\n",
      "176/176 [==============================] - 186s 1s/step - loss: 29847.2432 - val_loss: 35640.1391\n",
      "Epoch 8/100000\n",
      "176/176 [==============================] - 185s 1s/step - loss: 29875.6659 - val_loss: 35610.7030\n",
      "Epoch 9/100000\n",
      "176/176 [==============================] - 185s 1s/step - loss: 29767.6981 - val_loss: 36010.0470\n",
      "Epoch 10/100000\n",
      "176/176 [==============================] - 185s 1s/step - loss: 29738.7539 - val_loss: 35556.0622\n",
      "Epoch 11/100000\n",
      "176/176 [==============================] - 185s 1s/step - loss: 29690.1701 - val_loss: 35552.5732\n",
      "Epoch 12/100000\n",
      "176/176 [==============================] - 186s 1s/step - loss: 29618.1849 - val_loss: 35969.5612\n",
      "Epoch 13/100000\n",
      "176/176 [==============================] - 185s 1s/step - loss: 29555.8195 - val_loss: 35518.1396\n",
      "Epoch 14/100000\n",
      "176/176 [==============================] - 185s 1s/step - loss: 29544.5702 - val_loss: 37003.5538\n",
      "Epoch 15/100000\n",
      "176/176 [==============================] - 186s 1s/step - loss: 29490.8875 - val_loss: 35273.2101\n",
      "Epoch 16/100000\n",
      "176/176 [==============================] - 186s 1s/step - loss: 29456.9817 - val_loss: 36344.9642\n",
      "Epoch 17/100000\n",
      "176/176 [==============================] - 186s 1s/step - loss: 29352.4242 - val_loss: 35645.9189\n",
      "Epoch 18/100000\n",
      "176/176 [==============================] - 185s 1s/step - loss: 29369.0019 - val_loss: 35915.5703\n",
      "Epoch 19/100000\n",
      "176/176 [==============================] - 186s 1s/step - loss: 29254.1454 - val_loss: 35559.1241\n",
      "Epoch 20/100000\n",
      "176/176 [==============================] - 186s 1s/step - loss: 29185.1887 - val_loss: 35424.8935\n",
      "Epoch 21/100000\n",
      "176/176 [==============================] - 185s 1s/step - loss: 29098.7652 - val_loss: 35753.9894\n",
      "Epoch 22/100000\n",
      "176/176 [==============================] - 185s 1s/step - loss: 29165.6246 - val_loss: 36347.4020\n",
      "Epoch 23/100000\n",
      "176/176 [==============================] - 185s 1s/step - loss: 29243.1041 - val_loss: 35178.5088\n",
      "Epoch 24/100000\n",
      "176/176 [==============================] - 186s 1s/step - loss: 29177.3013 - val_loss: 35676.3408\n",
      "Epoch 25/100000\n",
      "176/176 [==============================] - 186s 1s/step - loss: 29237.1075 - val_loss: 36489.2430\n",
      "Epoch 26/100000\n",
      "176/176 [==============================] - 185s 1s/step - loss: 29026.8219 - val_loss: 35887.0787\n",
      "Epoch 27/100000\n",
      "176/176 [==============================] - 186s 1s/step - loss: 29053.1604 - val_loss: 35800.8292\n",
      "Epoch 28/100000\n",
      "176/176 [==============================] - 185s 1s/step - loss: 28999.5076 - val_loss: 37235.9732\n",
      "Epoch 29/100000\n",
      "176/176 [==============================] - 186s 1s/step - loss: 28926.9660 - val_loss: 36364.3838\n",
      "Epoch 30/100000\n",
      "176/176 [==============================] - 185s 1s/step - loss: 28888.0567 - val_loss: 35361.7875\n",
      "Epoch 31/100000\n",
      "176/176 [==============================] - 185s 1s/step - loss: 28921.1441 - val_loss: 35171.3981\n",
      "Epoch 32/100000\n",
      "176/176 [==============================] - 186s 1s/step - loss: 28928.5059 - val_loss: 36126.1004\n",
      "Epoch 33/100000\n",
      "176/176 [==============================] - 186s 1s/step - loss: 28907.5178 - val_loss: 35418.9519\n",
      "Epoch 34/100000\n",
      "176/176 [==============================] - 185s 1s/step - loss: 28861.7582 - val_loss: 35811.7170\n",
      "Epoch 35/100000\n",
      "176/176 [==============================] - 185s 1s/step - loss: 28781.7149 - val_loss: 35346.8600\n",
      "Epoch 36/100000\n",
      "176/176 [==============================] - 185s 1s/step - loss: 28718.9377 - val_loss: 35889.2839\n",
      "Epoch 37/100000\n",
      "176/176 [==============================] - 185s 1s/step - loss: 28707.7970 - val_loss: 35672.3972\n",
      "Epoch 38/100000\n",
      "176/176 [==============================] - 185s 1s/step - loss: 28677.0538 - val_loss: 35752.2584\n",
      "Epoch 39/100000\n",
      "176/176 [==============================] - 185s 1s/step - loss: 28693.7465 - val_loss: 35660.6474\n",
      "Epoch 40/100000\n",
      "176/176 [==============================] - 185s 1s/step - loss: 28690.0126 - val_loss: 34996.0700\n",
      "Epoch 41/100000\n",
      "176/176 [==============================] - 185s 1s/step - loss: 28602.1818 - val_loss: 37278.2089\n",
      "Epoch 42/100000\n",
      "176/176 [==============================] - 184s 1s/step - loss: 28722.8932 - val_loss: 36270.8211\n",
      "Epoch 43/100000\n",
      "176/176 [==============================] - 185s 1s/step - loss: 28706.6295 - val_loss: 35699.7246\n",
      "Epoch 44/100000\n",
      "176/176 [==============================] - 186s 1s/step - loss: 28584.8277 - val_loss: 35590.0212\n",
      "Epoch 45/100000\n",
      "176/176 [==============================] - 185s 1s/step - loss: 28581.9007 - val_loss: 36626.1097\n",
      "Epoch 46/100000\n",
      "176/176 [==============================] - 185s 1s/step - loss: 28547.3021 - val_loss: 35085.2844\n",
      "Epoch 47/100000\n",
      "176/176 [==============================] - 185s 1s/step - loss: 28467.6150 - val_loss: 36807.8853\n",
      "Epoch 48/100000\n",
      "176/176 [==============================] - 185s 1s/step - loss: 28423.9446 - val_loss: 35258.3993\n",
      "Epoch 49/100000\n",
      "176/176 [==============================] - 185s 1s/step - loss: 28414.0064 - val_loss: 36236.1789\n",
      "Epoch 50/100000\n",
      "176/176 [==============================] - 185s 1s/step - loss: 28313.7978 - val_loss: 35969.1417\n"
     ]
    }
   ],
   "source": [
    "model = SegNetModel('noname')\n",
    "hst = model.train(bs, n_epoch=100000, reduced_size=1000)"
   ]
  },
  {
   "cell_type": "code",
   "execution_count": null,
   "metadata": {},
   "outputs": [],
   "source": []
  }
 ],
 "metadata": {
  "kernelspec": {
   "display_name": "Python 3",
   "language": "python",
   "name": "python3"
  },
  "language_info": {
   "codemirror_mode": {
    "name": "ipython",
    "version": 3
   },
   "file_extension": ".py",
   "mimetype": "text/x-python",
   "name": "python",
   "nbconvert_exporter": "python",
   "pygments_lexer": "ipython3",
   "version": "3.5.3"
  }
 },
 "nbformat": 4,
 "nbformat_minor": 2
}
