{
 "cells": [
  {
   "cell_type": "markdown",
   "metadata": {},
   "source": [
    "This notebook creates the csv-s to train retinanet object detector."
   ]
  },
  {
   "cell_type": "code",
   "execution_count": 1,
   "metadata": {},
   "outputs": [
    {
     "name": "stderr",
     "output_type": "stream",
     "text": [
      "C:\\ProgramData\\Anaconda3\\lib\\site-packages\\h5py\\__init__.py:36: FutureWarning: Conversion of the second argument of issubdtype from `float` to `np.floating` is deprecated. In future, it will be treated as `np.float64 == np.dtype(float).type`.\n",
      "  from ._conv import register_converters as _register_converters\n",
      "Using TensorFlow backend.\n"
     ]
    }
   ],
   "source": [
    "import pandas as pd\n",
    "\n",
    "from getABSDData import getABSDDataFrames\n",
    "from Utilities import annotation2Mask, mask2BoxParameters"
   ]
  },
  {
   "cell_type": "code",
   "execution_count": 2,
   "metadata": {},
   "outputs": [],
   "source": [
    "train, dev, test = getABSDDataFrames()"
   ]
  },
  {
   "cell_type": "code",
   "execution_count": 7,
   "metadata": {},
   "outputs": [
    {
     "data": {
      "text/plain": [
       "(57437, 57437)"
      ]
     },
     "execution_count": 7,
     "metadata": {},
     "output_type": "execute_result"
    }
   ],
   "source": [
    "len(train), len(train_kr)"
   ]
  },
  {
   "cell_type": "code",
   "execution_count": 4,
   "metadata": {},
   "outputs": [],
   "source": [
    "def df2kerasaRetinanetDf(df):\n",
    "    n_enteries = df.shape[0]\n",
    "    file_name_arr = []\n",
    "    center_x_arr = []\n",
    "    center_y_arr = []\n",
    "    alpha_arr = []\n",
    "    long_side_arr = []\n",
    "    short_side_arr = []\n",
    "    class_name_arr = []\n",
    "    for id in range(n_enteries):\n",
    "        enterie = df.iloc[id,:]\n",
    "        file_name = enterie.ImageId\n",
    "        annotation_str = enterie.EncodedPixels\n",
    "        if isinstance(annotation_str, str):\n",
    "            annotation_mask = annotation2Mask(annotation_str)\n",
    "            center_x, center_y, alpha, long_side, short_side = mask2BoxParameters(annotation_mask)\n",
    "            class_name = 'ship'\n",
    "        else:\n",
    "            center_x, center_y, long_side, short_side, alpha = ['', '', '', '', '']\n",
    "            class_name = ''\n",
    "        file_name_arr.append(file_name)\n",
    "        center_x_arr.append(center_x)\n",
    "        center_y_arr.append(center_y)\n",
    "        alpha_arr.append(alpha)\n",
    "        long_side_arr.append(long_side)\n",
    "        short_side_arr.append(short_side)\n",
    "        class_name_arr.append(class_name)\n",
    "        if id % 1000 == 0:\n",
    "            print(id / n_enteries * 100, id, n_enteries)\n",
    "    res = pd.DataFrame(data={\"file_name\": file_name_arr,\n",
    "                             \"center_x\": center_x_arr,\n",
    "                             \"center_y\": center_y_arr,\n",
    "                             \"alpha\": alpha_arr, \n",
    "                             \"long_side\": long_side_arr,\n",
    "                             \"short_side\": short_side_arr,\n",
    "                             \"class\": class_name_arr})\n",
    "    return res"
   ]
  },
  {
   "cell_type": "code",
   "execution_count": 5,
   "metadata": {},
   "outputs": [
    {
     "name": "stdout",
     "output_type": "stream",
     "text": [
      "0.0 0 57437\n",
      "1.7410380068596898 1000 57437\n",
      "3.4820760137193796 2000 57437\n",
      "5.223114020579069 3000 57437\n",
      "6.964152027438759 4000 57437\n",
      "8.705190034298449 5000 57437\n",
      "10.446228041158138 6000 57437\n",
      "12.187266048017827 7000 57437\n",
      "13.928304054877518 8000 57437\n",
      "15.669342061737208 9000 57437\n",
      "17.410380068596897 10000 57437\n",
      "19.151418075456586 11000 57437\n",
      "20.892456082316276 12000 57437\n",
      "22.63349408917597 13000 57437\n",
      "24.374532096035654 14000 57437\n",
      "26.115570102895347 15000 57437\n",
      "27.856608109755037 16000 57437\n",
      "29.597646116614722 17000 57437\n",
      "31.338684123474415 18000 57437\n",
      "33.079722130334105 19000 57437\n",
      "34.820760137193794 20000 57437\n",
      "36.56179814405348 21000 57437\n",
      "38.30283615091317 22000 57437\n",
      "40.04387415777286 23000 57437\n",
      "41.78491216463255 24000 57437\n",
      "43.52595017149225 25000 57437\n",
      "45.26698817835194 26000 57437\n",
      "47.00802618521162 27000 57437\n",
      "48.74906419207131 28000 57437\n",
      "50.490102198931 29000 57437\n",
      "52.231140205790695 30000 57437\n",
      "53.97217821265038 31000 57437\n",
      "55.71321621951007 32000 57437\n",
      "57.45425422636976 33000 57437\n",
      "59.195292233229445 34000 57437\n",
      "60.93633024008914 35000 57437\n",
      "62.67736824694883 36000 57437\n",
      "64.41840625380853 37000 57437\n",
      "66.15944426066821 38000 57437\n",
      "67.90048226752789 39000 57437\n",
      "69.64152027438759 40000 57437\n",
      "71.38255828124727 41000 57437\n",
      "73.12359628810697 42000 57437\n",
      "74.86463429496666 43000 57437\n",
      "76.60567230182635 44000 57437\n",
      "78.34671030868604 45000 57437\n",
      "80.08774831554572 46000 57437\n",
      "81.82878632240542 47000 57437\n",
      "83.5698243292651 48000 57437\n",
      "85.3108623361248 49000 57437\n",
      "87.0519003429845 50000 57437\n",
      "88.79293834984418 51000 57437\n",
      "90.53397635670387 52000 57437\n",
      "92.27501436356356 53000 57437\n",
      "94.01605237042324 54000 57437\n",
      "95.75709037728294 55000 57437\n",
      "97.49812838414262 56000 57437\n",
      "99.23916639100231 57000 57437\n"
     ]
    }
   ],
   "source": [
    "train_kr = df2kerasaRetinanetDf(train)\n",
    "train_kr.to_csv('train.csv', index=False, header=False)"
   ]
  },
  {
   "cell_type": "code",
   "execution_count": 6,
   "metadata": {},
   "outputs": [
    {
     "name": "stdout",
     "output_type": "stream",
     "text": [
      "0.0 0 16243\n",
      "6.156498183833035 1000 16243\n",
      "12.31299636766607 2000 16243\n",
      "18.469494551499107 3000 16243\n",
      "24.62599273533214 4000 16243\n",
      "30.782490919165177 5000 16243\n",
      "36.938989102998214 6000 16243\n",
      "43.09548728683125 7000 16243\n",
      "49.25198547066428 8000 16243\n",
      "55.40848365449732 9000 16243\n",
      "61.564981838330354 10000 16243\n",
      "67.72148002216339 11000 16243\n",
      "73.87797820599643 12000 16243\n",
      "80.03447638982946 13000 16243\n",
      "86.1909745736625 14000 16243\n",
      "92.34747275749554 15000 16243\n",
      "98.50397094132856 16000 16243\n"
     ]
    }
   ],
   "source": [
    "dev_kr = df2kerasaRetinanetDf(dev)\n",
    "dev_kr.to_csv('dev.csv', index=False, header=False)"
   ]
  },
  {
   "cell_type": "code",
   "execution_count": null,
   "metadata": {},
   "outputs": [],
   "source": []
  }
 ],
 "metadata": {
  "kernelspec": {
   "display_name": "Python 3",
   "language": "python",
   "name": "python3"
  },
  "language_info": {
   "codemirror_mode": {
    "name": "ipython",
    "version": 3
   },
   "file_extension": ".py",
   "mimetype": "text/x-python",
   "name": "python",
   "nbconvert_exporter": "python",
   "pygments_lexer": "ipython3",
   "version": "3.6.5"
  }
 },
 "nbformat": 4,
 "nbformat_minor": 2
}
