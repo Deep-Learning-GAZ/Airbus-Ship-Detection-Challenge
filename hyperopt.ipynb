{
 "cells": [
  {
   "cell_type": "code",
   "execution_count": 1,
   "metadata": {},
   "outputs": [
    {
     "name": "stderr",
     "output_type": "stream",
     "text": [
      "C:\\ProgramData\\Anaconda3\\lib\\site-packages\\h5py\\__init__.py:36: FutureWarning: Conversion of the second argument of issubdtype from `float` to `np.floating` is deprecated. In future, it will be treated as `np.float64 == np.dtype(float).type`.\n",
      "  from ._conv import register_converters as _register_converters\n",
      "Using TensorFlow backend.\n"
     ]
    }
   ],
   "source": [
    "from Model import RetrainedClassificationModel\n",
    "import keras\n",
    "from Utilities.Metrics import precision, recall, f1\n",
    "keras.metrics.precision = precision\n",
    "keras.metrics.recall = recall\n",
    "keras.metrics.f1 = f1"
   ]
  },
  {
   "cell_type": "code",
   "execution_count": 2,
   "metadata": {},
   "outputs": [
    {
     "name": "stderr",
     "output_type": "stream",
     "text": [
      "C:\\Users\\matech\\source\\machine learning\\Airbus-Ship-Detection-Challenge\\Model\\RetrainedClassificationModel.py:34: UserWarning: Update your `Model` call to the Keras 2 API: `Model(inputs=Tensor(\"in..., outputs=Tensor(\"fl...)`\n",
      "  self.model = Model(input=model.input, output=predictions)\n"
     ]
    },
    {
     "name": "stdout",
     "output_type": "stream",
     "text": [
      "Epoch 1/100\n",
      "180/180 [==============================] - 53s 292ms/step - loss: 0.0168 - precision: 0.9051 - recall: 0.8883 - f1: 0.8960 - val_loss: 0.0729 - val_precision: 0.7187 - val_recall: 0.5934 - val_f1: 0.6488\n",
      "Epoch 2/100\n",
      "180/180 [==============================] - 47s 264ms/step - loss: 0.0166 - precision: 0.9063 - recall: 0.8915 - f1: 0.8983 - val_loss: 0.0793 - val_precision: 0.7274 - val_recall: 0.5870 - val_f1: 0.6486\n",
      "Epoch 3/100\n",
      "180/180 [==============================] - 48s 264ms/step - loss: 0.0160 - precision: 0.9083 - recall: 0.8942 - f1: 0.9006 - val_loss: 0.0863 - val_precision: 0.7740 - val_recall: 0.5569 - val_f1: 0.6463\n",
      "Epoch 4/100\n",
      "180/180 [==============================] - 48s 264ms/step - loss: 0.0133 - precision: 0.9234 - recall: 0.9134 - f1: 0.9181 - val_loss: 0.0780 - val_precision: 0.7367 - val_recall: 0.5925 - val_f1: 0.6556\n",
      "Epoch 5/100\n",
      "180/180 [==============================] - 48s 265ms/step - loss: 0.0129 - precision: 0.9267 - recall: 0.9177 - f1: 0.9218 - val_loss: 0.0985 - val_precision: 0.7697 - val_recall: 0.5555 - val_f1: 0.6439\n",
      "Epoch 6/100\n",
      "180/180 [==============================] - 48s 265ms/step - loss: 0.0123 - precision: 0.9297 - recall: 0.9224 - f1: 0.9257 - val_loss: 0.0829 - val_precision: 0.7450 - val_recall: 0.5691 - val_f1: 0.6438\n",
      "Epoch 7/100\n",
      "180/180 [==============================] - 48s 265ms/step - loss: 0.0122 - precision: 0.9300 - recall: 0.9254 - f1: 0.9274 - val_loss: 0.0828 - val_precision: 0.7403 - val_recall: 0.5868 - val_f1: 0.6537\n",
      "Epoch 8/100\n",
      "180/180 [==============================] - 48s 265ms/step - loss: 0.0264 - precision: 0.8618 - recall: 0.8559 - f1: 0.8556 - val_loss: 0.1145 - val_precision: 0.6130 - val_recall: 0.5556 - val_f1: 0.5812\n",
      "Epoch 9/100\n",
      "180/180 [==============================] - 48s 266ms/step - loss: 0.0278 - precision: 0.8497 - recall: 0.8219 - f1: 0.8331 - val_loss: 0.0839 - val_precision: 0.7492 - val_recall: 0.5442 - val_f1: 0.6289\n",
      "Epoch 10/100\n",
      "180/180 [==============================] - 48s 266ms/step - loss: 0.0121 - precision: 0.9322 - recall: 0.9220 - f1: 0.9267 - val_loss: 0.0850 - val_precision: 0.7569 - val_recall: 0.5769 - val_f1: 0.6535\n",
      "Epoch 11/100\n",
      "180/180 [==============================] - 48s 266ms/step - loss: 0.0087 - precision: 0.9522 - recall: 0.9472 - f1: 0.9496 - val_loss: 0.0923 - val_precision: 0.7724 - val_recall: 0.5630 - val_f1: 0.6500\n",
      "Epoch 12/100\n",
      "180/180 [==============================] - 48s 266ms/step - loss: 0.0070 - precision: 0.9621 - recall: 0.9607 - f1: 0.9613 - val_loss: 0.0966 - val_precision: 0.7591 - val_recall: 0.5755 - val_f1: 0.6533\n",
      "Epoch 13/100\n",
      "180/180 [==============================] - 48s 266ms/step - loss: 0.0066 - precision: 0.9640 - recall: 0.9638 - f1: 0.9639 - val_loss: 0.1046 - val_precision: 0.7679 - val_recall: 0.5649 - val_f1: 0.6494\n",
      "Epoch 14/100\n",
      "180/180 [==============================] - 48s 266ms/step - loss: 0.0064 - precision: 0.9654 - recall: 0.9651 - f1: 0.9652 - val_loss: 0.1086 - val_precision: 0.7680 - val_recall: 0.5637 - val_f1: 0.6488\n",
      "Epoch 15/100\n",
      "180/180 [==============================] - 48s 266ms/step - loss: 0.0060 - precision: 0.9660 - recall: 0.9670 - f1: 0.9665 - val_loss: 0.1039 - val_precision: 0.7451 - val_recall: 0.5837 - val_f1: 0.6533\n",
      "Epoch 16/100\n",
      "180/180 [==============================] - 48s 266ms/step - loss: 0.0071 - precision: 0.9598 - recall: 0.9609 - f1: 0.9602 - val_loss: 0.0981 - val_precision: 0.7295 - val_recall: 0.5788 - val_f1: 0.6444\n",
      "Epoch 17/100\n",
      "180/180 [==============================] - 48s 266ms/step - loss: 0.0077 - precision: 0.9555 - recall: 0.9560 - f1: 0.9556 - val_loss: 0.1125 - val_precision: 0.7678 - val_recall: 0.5514 - val_f1: 0.6405\n",
      "Epoch 18/100\n",
      "180/180 [==============================] - 48s 266ms/step - loss: 0.0122 - precision: 0.9300 - recall: 0.9244 - f1: 0.9267 - val_loss: 0.1094 - val_precision: 0.7538 - val_recall: 0.5447 - val_f1: 0.6312\n"
     ]
    },
    {
     "name": "stderr",
     "output_type": "stream",
     "text": [
      "C:\\Users\\matech\\source\\machine learning\\Airbus-Ship-Detection-Challenge\\Model\\RetrainedClassificationModel.py:34: UserWarning: Update your `Model` call to the Keras 2 API: `Model(inputs=Tensor(\"in..., outputs=Tensor(\"fl...)`\n",
      "  self.model = Model(input=model.input, output=predictions)\n"
     ]
    },
    {
     "name": "stdout",
     "output_type": "stream",
     "text": [
      "Epoch 1/100\n",
      "180/180 [==============================] - 48s 269ms/step - loss: 0.0168 - precision: 0.9038 - recall: 0.8884 - f1: 0.8952 - val_loss: 0.0717 - val_precision: 0.7057 - val_recall: 0.6091 - val_f1: 0.6529\n",
      "Epoch 2/100\n",
      "180/180 [==============================] - 48s 265ms/step - loss: 0.0157 - precision: 0.9115 - recall: 0.8983 - f1: 0.9043 - val_loss: 0.0814 - val_precision: 0.7346 - val_recall: 0.5644 - val_f1: 0.6369\n",
      "Epoch 3/100\n",
      "180/180 [==============================] - 48s 266ms/step - loss: 0.0142 - precision: 0.9180 - recall: 0.9071 - f1: 0.9120 - val_loss: 0.0743 - val_precision: 0.7383 - val_recall: 0.5830 - val_f1: 0.6501\n",
      "Epoch 4/100\n",
      "180/180 [==============================] - 48s 266ms/step - loss: 0.0143 - precision: 0.9182 - recall: 0.9083 - f1: 0.9127 - val_loss: 0.0813 - val_precision: 0.7495 - val_recall: 0.5707 - val_f1: 0.6467\n",
      "Epoch 5/100\n",
      "180/180 [==============================] - 48s 266ms/step - loss: 0.0133 - precision: 0.9237 - recall: 0.9163 - f1: 0.9195 - val_loss: 0.0967 - val_precision: 0.7625 - val_recall: 0.5502 - val_f1: 0.6377\n",
      "Epoch 6/100\n",
      "180/180 [==============================] - 48s 266ms/step - loss: 0.0133 - precision: 0.9226 - recall: 0.9171 - f1: 0.9194 - val_loss: 0.0800 - val_precision: 0.7103 - val_recall: 0.6105 - val_f1: 0.6556\n",
      "Epoch 7/100\n",
      "180/180 [==============================] - 48s 266ms/step - loss: 0.0120 - precision: 0.9291 - recall: 0.9259 - f1: 0.9271 - val_loss: 0.0888 - val_precision: 0.7562 - val_recall: 0.5692 - val_f1: 0.6480\n",
      "Epoch 8/100\n",
      "180/180 [==============================] - 48s 266ms/step - loss: 0.0108 - precision: 0.9363 - recall: 0.9333 - f1: 0.9345 - val_loss: 0.0850 - val_precision: 0.7317 - val_recall: 0.5820 - val_f1: 0.6470\n",
      "Epoch 9/100\n",
      "180/180 [==============================] - 48s 266ms/step - loss: 0.0101 - precision: 0.9411 - recall: 0.9385 - f1: 0.9396 - val_loss: 0.0896 - val_precision: 0.7430 - val_recall: 0.5742 - val_f1: 0.6462\n",
      "Epoch 10/100\n",
      "180/180 [==============================] - 48s 266ms/step - loss: 0.0096 - precision: 0.9438 - recall: 0.9417 - f1: 0.9425 - val_loss: 0.0897 - val_precision: 0.7383 - val_recall: 0.5902 - val_f1: 0.6547\n",
      "Epoch 11/100\n",
      "180/180 [==============================] - 48s 266ms/step - loss: 0.0089 - precision: 0.9479 - recall: 0.9463 - f1: 0.9470 - val_loss: 0.0971 - val_precision: 0.7523 - val_recall: 0.5732 - val_f1: 0.6492\n",
      "Epoch 12/100\n",
      "180/180 [==============================] - 48s 266ms/step - loss: 0.0100 - precision: 0.9413 - recall: 0.9410 - f1: 0.9408 - val_loss: 0.0921 - val_precision: 0.7058 - val_recall: 0.5825 - val_f1: 0.6373\n",
      "Epoch 1/100\n",
      "180/180 [==============================] - 49s 271ms/step - loss: 0.0168 - precision: 0.9050 - recall: 0.8897 - f1: 0.8967 - val_loss: 0.0863 - val_precision: 0.7550 - val_recall: 0.5709 - val_f1: 0.6487\n",
      "Epoch 2/100\n",
      "180/180 [==============================] - 48s 265ms/step - loss: 0.0147 - precision: 0.9162 - recall: 0.9029 - f1: 0.9091 - val_loss: 0.0733 - val_precision: 0.7067 - val_recall: 0.5922 - val_f1: 0.6435\n",
      "Epoch 3/100\n",
      "180/180 [==============================] - 48s 268ms/step - loss: 0.0167 - precision: 0.9055 - recall: 0.8907 - f1: 0.8974 - val_loss: 0.0775 - val_precision: 0.7216 - val_recall: 0.5948 - val_f1: 0.6507\n",
      "Epoch 4/100\n",
      "180/180 [==============================] - 48s 267ms/step - loss: 0.0148 - precision: 0.9159 - recall: 0.9051 - f1: 0.9099 - val_loss: 0.0859 - val_precision: 0.7446 - val_recall: 0.5696 - val_f1: 0.6439\n",
      "Epoch 5/100\n",
      "180/180 [==============================] - 48s 267ms/step - loss: 0.0124 - precision: 0.9284 - recall: 0.9210 - f1: 0.9243 - val_loss: 0.0845 - val_precision: 0.7538 - val_recall: 0.5714 - val_f1: 0.6487\n",
      "Epoch 6/100\n",
      "180/180 [==============================] - 48s 267ms/step - loss: 0.0115 - precision: 0.9324 - recall: 0.9283 - f1: 0.9300 - val_loss: 0.0851 - val_precision: 0.7328 - val_recall: 0.5829 - val_f1: 0.6481\n",
      "Epoch 7/100\n",
      "180/180 [==============================] - 48s 267ms/step - loss: 0.0101 - precision: 0.9403 - recall: 0.9379 - f1: 0.9389 - val_loss: 0.0836 - val_precision: 0.7235 - val_recall: 0.5948 - val_f1: 0.6518\n",
      "Epoch 8/100\n",
      "180/180 [==============================] - 48s 267ms/step - loss: 0.0103 - precision: 0.9404 - recall: 0.9374 - f1: 0.9387 - val_loss: 0.0919 - val_precision: 0.7571 - val_recall: 0.5707 - val_f1: 0.6497\n",
      "Epoch 9/100\n",
      "180/180 [==============================] - 48s 267ms/step - loss: 0.0100 - precision: 0.9420 - recall: 0.9403 - f1: 0.9409 - val_loss: 0.0869 - val_precision: 0.6834 - val_recall: 0.5902 - val_f1: 0.6322\n",
      "Epoch 10/100\n",
      "180/180 [==============================] - 48s 267ms/step - loss: 0.0131 - precision: 0.9228 - recall: 0.9201 - f1: 0.9210 - val_loss: 0.0897 - val_precision: 0.7546 - val_recall: 0.5407 - val_f1: 0.6282\n",
      "Epoch 11/100\n",
      "180/180 [==============================] - 48s 267ms/step - loss: 0.0609 - precision: 0.7188 - recall: 0.6801 - f1: 0.6888 - val_loss: 0.0762 - val_precision: 0.7095 - val_recall: 0.5097 - val_f1: 0.5914\n",
      "Epoch 12/100\n",
      "180/180 [==============================] - 48s 267ms/step - loss: 0.0235 - precision: 0.8784 - recall: 0.8331 - f1: 0.8537 - val_loss: 0.0784 - val_precision: 0.7118 - val_recall: 0.5900 - val_f1: 0.6444\n",
      "Epoch 13/100\n",
      "180/180 [==============================] - 48s 267ms/step - loss: 0.0116 - precision: 0.9366 - recall: 0.9225 - f1: 0.9292 - val_loss: 0.0913 - val_precision: 0.7640 - val_recall: 0.5628 - val_f1: 0.6469\n",
      "Epoch 14/100\n",
      "180/180 [==============================] - 48s 267ms/step - loss: 0.0077 - precision: 0.9583 - recall: 0.9536 - f1: 0.9559 - val_loss: 0.0979 - val_precision: 0.7657 - val_recall: 0.5689 - val_f1: 0.6514\n",
      "Epoch 15/100\n",
      "180/180 [==============================] - 48s 267ms/step - loss: 0.0061 - precision: 0.9676 - recall: 0.9666 - f1: 0.9670 - val_loss: 0.1023 - val_precision: 0.7554 - val_recall: 0.5731 - val_f1: 0.6505\n",
      "Epoch 16/100\n",
      "180/180 [==============================] - 48s 267ms/step - loss: 0.0056 - precision: 0.9703 - recall: 0.9708 - f1: 0.9705 - val_loss: 0.1103 - val_precision: 0.7634 - val_recall: 0.5591 - val_f1: 0.6440\n",
      "Epoch 17/100\n",
      "180/180 [==============================] - 48s 267ms/step - loss: 0.0055 - precision: 0.9707 - recall: 0.9712 - f1: 0.9709 - val_loss: 0.1116 - val_precision: 0.7549 - val_recall: 0.5680 - val_f1: 0.6471\n",
      "Epoch 18/100\n",
      "180/180 [==============================] - 48s 267ms/step - loss: 0.0054 - precision: 0.9712 - recall: 0.9725 - f1: 0.9718 - val_loss: 0.1088 - val_precision: 0.7499 - val_recall: 0.5662 - val_f1: 0.6438\n",
      "Epoch 19/100\n",
      "180/180 [==============================] - 48s 267ms/step - loss: 0.0055 - precision: 0.9694 - recall: 0.9702 - f1: 0.9698 - val_loss: 0.1139 - val_precision: 0.7595 - val_recall: 0.5620 - val_f1: 0.6447\n",
      "Epoch 20/100\n",
      "180/180 [==============================] - 48s 269ms/step - loss: 0.0054 - precision: 0.9699 - recall: 0.9713 - f1: 0.9705 - val_loss: 0.1165 - val_precision: 0.7641 - val_recall: 0.5525 - val_f1: 0.6398\n",
      "Epoch 21/100\n",
      "180/180 [==============================] - 49s 270ms/step - loss: 0.0059 - precision: 0.9663 - recall: 0.9678 - f1: 0.9670 - val_loss: 0.1094 - val_precision: 0.7428 - val_recall: 0.5756 - val_f1: 0.6474\n",
      "Epoch 1/100\n",
      "180/180 [==============================] - 51s 286ms/step - loss: 0.0164 - precision: 0.9074 - recall: 0.8896 - f1: 0.8979 - val_loss: 0.0763 - val_precision: 0.7406 - val_recall: 0.5786 - val_f1: 0.6483\n",
      "Epoch 2/100\n",
      "180/180 [==============================] - 50s 278ms/step - loss: 0.0149 - precision: 0.9143 - recall: 0.9023 - f1: 0.9078 - val_loss: 0.0820 - val_precision: 0.7649 - val_recall: 0.5633 - val_f1: 0.6477\n",
      "Epoch 3/100\n",
      "180/180 [==============================] - 50s 280ms/step - loss: 0.0168 - precision: 0.9055 - recall: 0.8942 - f1: 0.8989 - val_loss: 0.0972 - val_precision: 0.6916 - val_recall: 0.5620 - val_f1: 0.6189\n",
      "Epoch 4/100\n",
      "180/180 [==============================] - 50s 280ms/step - loss: 0.0181 - precision: 0.8972 - recall: 0.8817 - f1: 0.8886 - val_loss: 0.0830 - val_precision: 0.7313 - val_recall: 0.5828 - val_f1: 0.6477\n",
      "Epoch 5/100\n",
      "180/180 [==============================] - 50s 280ms/step - loss: 0.0132 - precision: 0.9239 - recall: 0.9160 - f1: 0.9196 - val_loss: 0.0940 - val_precision: 0.7900 - val_recall: 0.5286 - val_f1: 0.6317\n"
     ]
    },
    {
     "name": "stdout",
     "output_type": "stream",
     "text": [
      "Epoch 6/100\n",
      "180/180 [==============================] - 50s 279ms/step - loss: 0.0109 - precision: 0.9379 - recall: 0.9318 - f1: 0.9346 - val_loss: 0.0913 - val_precision: 0.7677 - val_recall: 0.5657 - val_f1: 0.6500\n",
      "Epoch 7/100\n",
      "180/180 [==============================] - 50s 280ms/step - loss: 0.0095 - precision: 0.9447 - recall: 0.9431 - f1: 0.9437 - val_loss: 0.0915 - val_precision: 0.7609 - val_recall: 0.5743 - val_f1: 0.6531\n",
      "Epoch 8/100\n",
      "180/180 [==============================] - 50s 280ms/step - loss: 0.0089 - precision: 0.9471 - recall: 0.9465 - f1: 0.9466 - val_loss: 0.0923 - val_precision: 0.7477 - val_recall: 0.5742 - val_f1: 0.6482\n",
      "Epoch 9/100\n",
      "180/180 [==============================] - 50s 280ms/step - loss: 0.0100 - precision: 0.9411 - recall: 0.9400 - f1: 0.9403 - val_loss: 0.0901 - val_precision: 0.7315 - val_recall: 0.5828 - val_f1: 0.6476\n",
      "Epoch 10/100\n",
      "180/180 [==============================] - 50s 280ms/step - loss: 0.0125 - precision: 0.9279 - recall: 0.9221 - f1: 0.9245 - val_loss: 0.0980 - val_precision: 0.7331 - val_recall: 0.5399 - val_f1: 0.6203\n",
      "Epoch 11/100\n",
      "180/180 [==============================] - 50s 280ms/step - loss: 0.0336 - precision: 0.8217 - recall: 0.7984 - f1: 0.8067 - val_loss: 0.0999 - val_precision: 0.7255 - val_recall: 0.5156 - val_f1: 0.6009\n",
      "Epoch 12/100\n",
      "180/180 [==============================] - 50s 280ms/step - loss: 0.0180 - precision: 0.8980 - recall: 0.8798 - f1: 0.8880 - val_loss: 0.0834 - val_precision: 0.7384 - val_recall: 0.5651 - val_f1: 0.6388\n",
      "Epoch 13/100\n",
      "180/180 [==============================] - 51s 283ms/step - loss: 0.0101 - precision: 0.9410 - recall: 0.9366 - f1: 0.9385 - val_loss: 0.0938 - val_precision: 0.7628 - val_recall: 0.5654 - val_f1: 0.6482\n",
      "Epoch 14/100\n",
      "180/180 [==============================] - 50s 280ms/step - loss: 0.0076 - precision: 0.9576 - recall: 0.9557 - f1: 0.9565 - val_loss: 0.0971 - val_precision: 0.7555 - val_recall: 0.5738 - val_f1: 0.6508\n",
      "Epoch 15/100\n",
      "180/180 [==============================] - 50s 279ms/step - loss: 0.0071 - precision: 0.9600 - recall: 0.9599 - f1: 0.9599 - val_loss: 0.0993 - val_precision: 0.7417 - val_recall: 0.5774 - val_f1: 0.6480\n",
      "Epoch 16/100\n",
      "180/180 [==============================] - 51s 281ms/step - loss: 0.0064 - precision: 0.9640 - recall: 0.9641 - f1: 0.9640 - val_loss: 0.1088 - val_precision: 0.7659 - val_recall: 0.5652 - val_f1: 0.6490\n",
      "Epoch 17/100\n",
      "180/180 [==============================] - 50s 279ms/step - loss: 0.0056 - precision: 0.9682 - recall: 0.9698 - f1: 0.9690 - val_loss: 0.1096 - val_precision: 0.7653 - val_recall: 0.5613 - val_f1: 0.6463\n",
      "Epoch 18/100\n",
      "180/180 [==============================] - 50s 280ms/step - loss: 0.0056 - precision: 0.9696 - recall: 0.9706 - f1: 0.9700 - val_loss: 0.1177 - val_precision: 0.7740 - val_recall: 0.5562 - val_f1: 0.6460\n",
      "Epoch 19/100\n",
      "180/180 [==============================] - 50s 280ms/step - loss: 0.0054 - precision: 0.9693 - recall: 0.9713 - f1: 0.9703 - val_loss: 0.1117 - val_precision: 0.7614 - val_recall: 0.5633 - val_f1: 0.6463\n",
      "Epoch 20/100\n",
      "180/180 [==============================] - 50s 280ms/step - loss: 0.0055 - precision: 0.9678 - recall: 0.9706 - f1: 0.9691 - val_loss: 0.1136 - val_precision: 0.7564 - val_recall: 0.5655 - val_f1: 0.6458\n",
      "Epoch 21/100\n",
      "180/180 [==============================] - 50s 280ms/step - loss: 0.0058 - precision: 0.9658 - recall: 0.9680 - f1: 0.9668 - val_loss: 0.1148 - val_precision: 0.7662 - val_recall: 0.5544 - val_f1: 0.6418\n",
      "Epoch 1/100\n",
      "180/180 [==============================] - 51s 284ms/step - loss: 0.0168 - precision: 0.9063 - recall: 0.8880 - f1: 0.8965 - val_loss: 0.0728 - val_precision: 0.7284 - val_recall: 0.5891 - val_f1: 0.6503\n",
      "Epoch 2/100\n",
      "180/180 [==============================] - 50s 279ms/step - loss: 0.0158 - precision: 0.9103 - recall: 0.8961 - f1: 0.9026 - val_loss: 0.0867 - val_precision: 0.7480 - val_recall: 0.5715 - val_f1: 0.6466\n",
      "Epoch 3/100\n",
      "180/180 [==============================] - 51s 281ms/step - loss: 0.0148 - precision: 0.9140 - recall: 0.9048 - f1: 0.9089 - val_loss: 0.0830 - val_precision: 0.7460 - val_recall: 0.5718 - val_f1: 0.6461\n",
      "Epoch 4/100\n",
      "180/180 [==============================] - 51s 281ms/step - loss: 0.0150 - precision: 0.9127 - recall: 0.9031 - f1: 0.9075 - val_loss: 0.0882 - val_precision: 0.7473 - val_recall: 0.5557 - val_f1: 0.6363\n",
      "Epoch 5/100\n",
      "180/180 [==============================] - 51s 282ms/step - loss: 0.0176 - precision: 0.9024 - recall: 0.8941 - f1: 0.8970 - val_loss: 0.0879 - val_precision: 0.5528 - val_recall: 0.6244 - val_f1: 0.5850\n",
      "Epoch 6/100\n",
      "180/180 [==============================] - 51s 281ms/step - loss: 0.0218 - precision: 0.8778 - recall: 0.8577 - f1: 0.8661 - val_loss: 0.0764 - val_precision: 0.7267 - val_recall: 0.5885 - val_f1: 0.6494\n",
      "Epoch 7/100\n",
      "180/180 [==============================] - 51s 281ms/step - loss: 0.0113 - precision: 0.9339 - recall: 0.9284 - f1: 0.9309 - val_loss: 0.0835 - val_precision: 0.7488 - val_recall: 0.5919 - val_f1: 0.6598\n",
      "Epoch 8/100\n",
      "180/180 [==============================] - 50s 280ms/step - loss: 0.0090 - precision: 0.9491 - recall: 0.9462 - f1: 0.9476 - val_loss: 0.0889 - val_precision: 0.7517 - val_recall: 0.5843 - val_f1: 0.6562\n",
      "Epoch 9/100\n",
      "180/180 [==============================] - 50s 277ms/step - loss: 0.0086 - precision: 0.9499 - recall: 0.9505 - f1: 0.9499 - val_loss: 0.1000 - val_precision: 0.7672 - val_recall: 0.5589 - val_f1: 0.6453\n",
      "Epoch 10/100\n",
      "180/180 [==============================] - 50s 275ms/step - loss: 0.0094 - precision: 0.9462 - recall: 0.9455 - f1: 0.9456 - val_loss: 0.0870 - val_precision: 0.7331 - val_recall: 0.5981 - val_f1: 0.6575\n",
      "Epoch 11/100\n",
      "180/180 [==============================] - 50s 277ms/step - loss: 0.0085 - precision: 0.9512 - recall: 0.9520 - f1: 0.9514 - val_loss: 0.0979 - val_precision: 0.7643 - val_recall: 0.5495 - val_f1: 0.6379\n",
      "Epoch 12/100\n",
      "180/180 [==============================] - 49s 273ms/step - loss: 0.0095 - precision: 0.9449 - recall: 0.9454 - f1: 0.9449 - val_loss: 0.0997 - val_precision: 0.7543 - val_recall: 0.5634 - val_f1: 0.6435\n",
      "Epoch 13/100\n",
      "180/180 [==============================] - 49s 272ms/step - loss: 0.0093 - precision: 0.9460 - recall: 0.9456 - f1: 0.9455 - val_loss: 0.1004 - val_precision: 0.7565 - val_recall: 0.5717 - val_f1: 0.6500\n",
      "Epoch 14/100\n",
      "180/180 [==============================] - 50s 276ms/step - loss: 0.0237 - precision: 0.8682 - recall: 0.8615 - f1: 0.8629 - val_loss: 0.0961 - val_precision: 0.6847 - val_recall: 0.5606 - val_f1: 0.6153\n",
      "Epoch 15/100\n",
      "180/180 [==============================] - 51s 281ms/step - loss: 0.0198 - precision: 0.8880 - recall: 0.8805 - f1: 0.8828 - val_loss: 0.1090 - val_precision: 0.7738 - val_recall: 0.5390 - val_f1: 0.6341\n",
      "Epoch 1/100\n",
      "180/180 [==============================] - 55s 308ms/step - loss: 0.0168 - precision: 0.9074 - recall: 0.8890 - f1: 0.8975 - val_loss: 0.0792 - val_precision: 0.7411 - val_recall: 0.5711 - val_f1: 0.6437\n",
      "Epoch 2/100\n",
      "180/180 [==============================] - 54s 300ms/step - loss: 0.0163 - precision: 0.9071 - recall: 0.8933 - f1: 0.8995 - val_loss: 0.0809 - val_precision: 0.7159 - val_recall: 0.5833 - val_f1: 0.6414\n",
      "Epoch 3/100\n",
      "180/180 [==============================] - 55s 303ms/step - loss: 0.0153 - precision: 0.9122 - recall: 0.9012 - f1: 0.9060 - val_loss: 0.0740 - val_precision: 0.7308 - val_recall: 0.5768 - val_f1: 0.6434\n",
      "Epoch 4/100\n",
      "180/180 [==============================] - 55s 303ms/step - loss: 0.0144 - precision: 0.9180 - recall: 0.9077 - f1: 0.9123 - val_loss: 0.0787 - val_precision: 0.7266 - val_recall: 0.5880 - val_f1: 0.6489\n",
      "Epoch 5/100\n",
      "180/180 [==============================] - 55s 304ms/step - loss: 0.0117 - precision: 0.9328 - recall: 0.9271 - f1: 0.9297 - val_loss: 0.0775 - val_precision: 0.7200 - val_recall: 0.6048 - val_f1: 0.6561\n",
      "Epoch 6/100\n",
      "180/180 [==============================] - 54s 302ms/step - loss: 0.0110 - precision: 0.9371 - recall: 0.9330 - f1: 0.9348 - val_loss: 0.0769 - val_precision: 0.7015 - val_recall: 0.6103 - val_f1: 0.6517\n",
      "Epoch 7/100\n",
      "180/180 [==============================] - 54s 301ms/step - loss: 0.0109 - precision: 0.9362 - recall: 0.9339 - f1: 0.9348 - val_loss: 0.0819 - val_precision: 0.7091 - val_recall: 0.6002 - val_f1: 0.6490\n"
     ]
    },
    {
     "name": "stdout",
     "output_type": "stream",
     "text": [
      "Epoch 8/100\n",
      "180/180 [==============================] - 54s 302ms/step - loss: 0.0249 - precision: 0.8724 - recall: 0.8651 - f1: 0.8657 - val_loss: 0.0870 - val_precision: 0.6199 - val_recall: 0.5182 - val_f1: 0.5618\n",
      "Epoch 9/100\n",
      "180/180 [==============================] - 54s 298ms/step - loss: 0.0348 - precision: 0.8209 - recall: 0.7712 - f1: 0.7926 - val_loss: 0.0814 - val_precision: 0.7274 - val_recall: 0.5638 - val_f1: 0.6340\n",
      "Epoch 10/100\n",
      "180/180 [==============================] - 56s 313ms/step - loss: 0.0137 - precision: 0.9226 - recall: 0.9089 - f1: 0.9153 - val_loss: 0.0816 - val_precision: 0.7455 - val_recall: 0.5789 - val_f1: 0.6505\n",
      "Epoch 11/100\n",
      "180/180 [==============================] - 55s 303ms/step - loss: 0.0089 - precision: 0.9498 - recall: 0.9457 - f1: 0.9476 - val_loss: 0.0914 - val_precision: 0.7796 - val_recall: 0.5575 - val_f1: 0.6487\n",
      "Epoch 12/100\n",
      "180/180 [==============================] - 56s 312ms/step - loss: 0.0070 - precision: 0.9619 - recall: 0.9607 - f1: 0.9612 - val_loss: 0.0970 - val_precision: 0.7659 - val_recall: 0.5713 - val_f1: 0.6532\n",
      "Epoch 13/100\n",
      "180/180 [==============================] - 53s 296ms/step - loss: 0.0061 - precision: 0.9667 - recall: 0.9668 - f1: 0.9667 - val_loss: 0.1012 - val_precision: 0.7710 - val_recall: 0.5668 - val_f1: 0.6519\n",
      "Epoch 14/100\n",
      "180/180 [==============================] - 55s 305ms/step - loss: 0.0064 - precision: 0.9638 - recall: 0.9649 - f1: 0.9643 - val_loss: 0.1102 - val_precision: 0.7677 - val_recall: 0.5639 - val_f1: 0.6489\n",
      "Epoch 15/100\n",
      "180/180 [==============================] - 56s 309ms/step - loss: 0.0063 - precision: 0.9649 - recall: 0.9659 - f1: 0.9653 - val_loss: 0.1245 - val_precision: 0.7905 - val_recall: 0.5432 - val_f1: 0.6423\n",
      "Epoch 16/100\n",
      "180/180 [==============================] - 56s 310ms/step - loss: 0.0067 - precision: 0.9628 - recall: 0.9638 - f1: 0.9632 - val_loss: 0.1074 - val_precision: 0.7652 - val_recall: 0.5601 - val_f1: 0.6452\n",
      "Epoch 17/100\n",
      "180/180 [==============================] - 56s 309ms/step - loss: 0.0068 - precision: 0.9609 - recall: 0.9615 - f1: 0.9611 - val_loss: 0.1048 - val_precision: 0.7640 - val_recall: 0.5644 - val_f1: 0.6479\n",
      "Epoch 18/100\n",
      "180/180 [==============================] - 56s 312ms/step - loss: 0.0072 - precision: 0.9591 - recall: 0.9607 - f1: 0.9598 - val_loss: 0.1037 - val_precision: 0.7403 - val_recall: 0.5688 - val_f1: 0.6421\n",
      "Epoch 1/100\n"
     ]
    },
    {
     "ename": "ResourceExhaustedError",
     "evalue": "OOM when allocating tensor with shape[8,64,224,224] and type float on /job:localhost/replica:0/task:0/device:GPU:0 by allocator GPU_0_bfc\n\t [[{{node block1_conv2_13/convolution}} = Conv2D[T=DT_FLOAT, _class=[\"loc:@train...propFilter\"], data_format=\"NCHW\", dilations=[1, 1, 1, 1], padding=\"SAME\", strides=[1, 1, 1, 1], use_cudnn_on_gpu=true, _device=\"/job:localhost/replica:0/task:0/device:GPU:0\"](block1_conv1_13/Relu, block1_conv2_13/kernel/read)]]\nHint: If you want to see a list of allocated tensors when OOM happens, add report_tensor_allocations_upon_oom to RunOptions for current allocation info.\n\n\t [[{{node metrics_13/f1/Mean/_10149}} = _Recv[client_terminated=false, recv_device=\"/job:localhost/replica:0/task:0/device:CPU:0\", send_device=\"/job:localhost/replica:0/task:0/device:GPU:0\", send_device_incarnation=1, tensor_name=\"edge_1792_metrics_13/f1/Mean\", tensor_type=DT_FLOAT, _device=\"/job:localhost/replica:0/task:0/device:CPU:0\"]()]]\nHint: If you want to see a list of allocated tensors when OOM happens, add report_tensor_allocations_upon_oom to RunOptions for current allocation info.\n",
     "output_type": "error",
     "traceback": [
      "\u001b[1;31m---------------------------------------------------------------------------\u001b[0m",
      "\u001b[1;31mResourceExhaustedError\u001b[0m                    Traceback (most recent call last)",
      "\u001b[1;32m<ipython-input-2-aa4198e9d298>\u001b[0m in \u001b[0;36m<module>\u001b[1;34m()\u001b[0m\n\u001b[0;32m      6\u001b[0m     \u001b[0mbs\u001b[0m \u001b[1;33m=\u001b[0m \u001b[1;36m8\u001b[0m\u001b[1;33m\u001b[0m\u001b[0m\n\u001b[0;32m      7\u001b[0m     \u001b[0ml2\u001b[0m \u001b[1;33m=\u001b[0m \u001b[1;36m10\u001b[0m\u001b[1;33m**\u001b[0m\u001b[0mi\u001b[0m\u001b[1;33m\u001b[0m\u001b[0m\n\u001b[1;32m----> 8\u001b[1;33m     \u001b[0mhst\u001b[0m \u001b[1;33m=\u001b[0m \u001b[0mmodel\u001b[0m\u001b[1;33m.\u001b[0m\u001b[0mtrain\u001b[0m\u001b[1;33m(\u001b[0m\u001b[0mbs\u001b[0m\u001b[1;33m,\u001b[0m \u001b[0mn_epoch\u001b[0m\u001b[1;33m=\u001b[0m\u001b[1;36m100\u001b[0m\u001b[1;33m,\u001b[0m \u001b[0mreduced_size\u001b[0m\u001b[1;33m=\u001b[0m\u001b[1;36m2048\u001b[0m\u001b[1;33m,\u001b[0m \u001b[0ml2_regularization\u001b[0m\u001b[1;33m=\u001b[0m\u001b[0ml2\u001b[0m\u001b[1;33m)\u001b[0m\u001b[1;33m\u001b[0m\u001b[0m\n\u001b[0m\u001b[0;32m      9\u001b[0m     \u001b[0mmodel\u001b[0m\u001b[1;33m.\u001b[0m\u001b[0mmodel\u001b[0m\u001b[1;33m.\u001b[0m\u001b[0msave\u001b[0m\u001b[1;33m(\u001b[0m\u001b[1;34m'l2_'\u001b[0m \u001b[1;33m+\u001b[0m \u001b[0mstr\u001b[0m\u001b[1;33m(\u001b[0m\u001b[0ml2\u001b[0m\u001b[1;33m)\u001b[0m \u001b[1;33m+\u001b[0m \u001b[1;34m'.hd5'\u001b[0m\u001b[1;33m)\u001b[0m\u001b[1;33m\u001b[0m\u001b[0m\n\u001b[0;32m     10\u001b[0m     \u001b[0maccs\u001b[0m \u001b[1;33m=\u001b[0m \u001b[0mmodel\u001b[0m\u001b[1;33m.\u001b[0m\u001b[0meval\u001b[0m\u001b[1;33m(\u001b[0m\u001b[0mbs\u001b[0m\u001b[1;33m,\u001b[0m \u001b[0mreduced_size\u001b[0m\u001b[1;33m=\u001b[0m\u001b[1;36m2048\u001b[0m\u001b[1;33m,\u001b[0m \u001b[0mremove_nan\u001b[0m\u001b[1;33m=\u001b[0m\u001b[1;32mTrue\u001b[0m\u001b[1;33m)\u001b[0m\u001b[1;33m\u001b[0m\u001b[0m\n",
      "\u001b[1;32m~\\source\\machine learning\\Airbus-Ship-Detection-Challenge\\Model\\RetrainedClassificationModel.py\u001b[0m in \u001b[0;36mtrain\u001b[1;34m(self, batch_size, l2_regularization, dropout_drop_porb, n_epoch, reduced_size, remove_nan)\u001b[0m\n\u001b[0;32m     52\u001b[0m         \u001b[0mself\u001b[0m\u001b[1;33m.\u001b[0m\u001b[0mmodel\u001b[0m\u001b[1;33m.\u001b[0m\u001b[0mcompile\u001b[0m\u001b[1;33m(\u001b[0m\u001b[0mloss\u001b[0m\u001b[1;33m=\u001b[0m\u001b[1;34m\"binary_crossentropy\"\u001b[0m\u001b[1;33m,\u001b[0m \u001b[0moptimizer\u001b[0m\u001b[1;33m=\u001b[0m\u001b[1;34m'adam'\u001b[0m\u001b[1;33m,\u001b[0m \u001b[0mmetrics\u001b[0m\u001b[1;33m=\u001b[0m\u001b[1;33m[\u001b[0m\u001b[0mprecision\u001b[0m\u001b[1;33m,\u001b[0m \u001b[0mrecall\u001b[0m\u001b[1;33m,\u001b[0m \u001b[0mf1\u001b[0m\u001b[1;33m]\u001b[0m\u001b[1;33m)\u001b[0m\u001b[1;33m\u001b[0m\u001b[0m\n\u001b[0;32m     53\u001b[0m \u001b[1;33m\u001b[0m\u001b[0m\n\u001b[1;32m---> 54\u001b[1;33m         \u001b[0mhst\u001b[0m \u001b[1;33m=\u001b[0m \u001b[0mself\u001b[0m\u001b[1;33m.\u001b[0m\u001b[0mmodel\u001b[0m\u001b[1;33m.\u001b[0m\u001b[0mfit_generator\u001b[0m\u001b[1;33m(\u001b[0m\u001b[0mtraining\u001b[0m\u001b[1;33m,\u001b[0m \u001b[0mvalidation_data\u001b[0m\u001b[1;33m=\u001b[0m\u001b[0mdev\u001b[0m\u001b[1;33m,\u001b[0m \u001b[0mcallbacks\u001b[0m\u001b[1;33m=\u001b[0m\u001b[0mcallbacks\u001b[0m\u001b[1;33m,\u001b[0m \u001b[0mepochs\u001b[0m\u001b[1;33m=\u001b[0m\u001b[0mn_epoch\u001b[0m\u001b[1;33m)\u001b[0m\u001b[1;33m\u001b[0m\u001b[0m\n\u001b[0m\u001b[0;32m     55\u001b[0m         \u001b[0mself\u001b[0m\u001b[1;33m.\u001b[0m\u001b[0mmodel\u001b[0m\u001b[1;33m.\u001b[0m\u001b[0msave\u001b[0m\u001b[1;33m(\u001b[0m\u001b[1;34m\"tcm.hd5\"\u001b[0m\u001b[1;33m)\u001b[0m\u001b[1;33m\u001b[0m\u001b[0m\n\u001b[0;32m     56\u001b[0m         \u001b[1;32mreturn\u001b[0m \u001b[0mhst\u001b[0m\u001b[1;33m\u001b[0m\u001b[0m\n",
      "\u001b[1;32mC:\\ProgramData\\Anaconda3\\lib\\site-packages\\keras\\legacy\\interfaces.py\u001b[0m in \u001b[0;36mwrapper\u001b[1;34m(*args, **kwargs)\u001b[0m\n\u001b[0;32m     89\u001b[0m                 warnings.warn('Update your `' + object_name + '` call to the ' +\n\u001b[0;32m     90\u001b[0m                               'Keras 2 API: ' + signature, stacklevel=2)\n\u001b[1;32m---> 91\u001b[1;33m             \u001b[1;32mreturn\u001b[0m \u001b[0mfunc\u001b[0m\u001b[1;33m(\u001b[0m\u001b[1;33m*\u001b[0m\u001b[0margs\u001b[0m\u001b[1;33m,\u001b[0m \u001b[1;33m**\u001b[0m\u001b[0mkwargs\u001b[0m\u001b[1;33m)\u001b[0m\u001b[1;33m\u001b[0m\u001b[0m\n\u001b[0m\u001b[0;32m     92\u001b[0m         \u001b[0mwrapper\u001b[0m\u001b[1;33m.\u001b[0m\u001b[0m_original_function\u001b[0m \u001b[1;33m=\u001b[0m \u001b[0mfunc\u001b[0m\u001b[1;33m\u001b[0m\u001b[0m\n\u001b[0;32m     93\u001b[0m         \u001b[1;32mreturn\u001b[0m \u001b[0mwrapper\u001b[0m\u001b[1;33m\u001b[0m\u001b[0m\n",
      "\u001b[1;32mC:\\ProgramData\\Anaconda3\\lib\\site-packages\\keras\\engine\\training.py\u001b[0m in \u001b[0;36mfit_generator\u001b[1;34m(self, generator, steps_per_epoch, epochs, verbose, callbacks, validation_data, validation_steps, class_weight, max_queue_size, workers, use_multiprocessing, shuffle, initial_epoch)\u001b[0m\n\u001b[0;32m   1416\u001b[0m             \u001b[0muse_multiprocessing\u001b[0m\u001b[1;33m=\u001b[0m\u001b[0muse_multiprocessing\u001b[0m\u001b[1;33m,\u001b[0m\u001b[1;33m\u001b[0m\u001b[0m\n\u001b[0;32m   1417\u001b[0m             \u001b[0mshuffle\u001b[0m\u001b[1;33m=\u001b[0m\u001b[0mshuffle\u001b[0m\u001b[1;33m,\u001b[0m\u001b[1;33m\u001b[0m\u001b[0m\n\u001b[1;32m-> 1418\u001b[1;33m             initial_epoch=initial_epoch)\n\u001b[0m\u001b[0;32m   1419\u001b[0m \u001b[1;33m\u001b[0m\u001b[0m\n\u001b[0;32m   1420\u001b[0m     \u001b[1;33m@\u001b[0m\u001b[0minterfaces\u001b[0m\u001b[1;33m.\u001b[0m\u001b[0mlegacy_generator_methods_support\u001b[0m\u001b[1;33m\u001b[0m\u001b[0m\n",
      "\u001b[1;32mC:\\ProgramData\\Anaconda3\\lib\\site-packages\\keras\\engine\\training_generator.py\u001b[0m in \u001b[0;36mfit_generator\u001b[1;34m(model, generator, steps_per_epoch, epochs, verbose, callbacks, validation_data, validation_steps, class_weight, max_queue_size, workers, use_multiprocessing, shuffle, initial_epoch)\u001b[0m\n\u001b[0;32m    215\u001b[0m                 outs = model.train_on_batch(x, y,\n\u001b[0;32m    216\u001b[0m                                             \u001b[0msample_weight\u001b[0m\u001b[1;33m=\u001b[0m\u001b[0msample_weight\u001b[0m\u001b[1;33m,\u001b[0m\u001b[1;33m\u001b[0m\u001b[0m\n\u001b[1;32m--> 217\u001b[1;33m                                             class_weight=class_weight)\n\u001b[0m\u001b[0;32m    218\u001b[0m \u001b[1;33m\u001b[0m\u001b[0m\n\u001b[0;32m    219\u001b[0m                 \u001b[0mouts\u001b[0m \u001b[1;33m=\u001b[0m \u001b[0mto_list\u001b[0m\u001b[1;33m(\u001b[0m\u001b[0mouts\u001b[0m\u001b[1;33m)\u001b[0m\u001b[1;33m\u001b[0m\u001b[0m\n",
      "\u001b[1;32mC:\\ProgramData\\Anaconda3\\lib\\site-packages\\keras\\engine\\training.py\u001b[0m in \u001b[0;36mtrain_on_batch\u001b[1;34m(self, x, y, sample_weight, class_weight)\u001b[0m\n\u001b[0;32m   1215\u001b[0m             \u001b[0mins\u001b[0m \u001b[1;33m=\u001b[0m \u001b[0mx\u001b[0m \u001b[1;33m+\u001b[0m \u001b[0my\u001b[0m \u001b[1;33m+\u001b[0m \u001b[0msample_weights\u001b[0m\u001b[1;33m\u001b[0m\u001b[0m\n\u001b[0;32m   1216\u001b[0m         \u001b[0mself\u001b[0m\u001b[1;33m.\u001b[0m\u001b[0m_make_train_function\u001b[0m\u001b[1;33m(\u001b[0m\u001b[1;33m)\u001b[0m\u001b[1;33m\u001b[0m\u001b[0m\n\u001b[1;32m-> 1217\u001b[1;33m         \u001b[0moutputs\u001b[0m \u001b[1;33m=\u001b[0m \u001b[0mself\u001b[0m\u001b[1;33m.\u001b[0m\u001b[0mtrain_function\u001b[0m\u001b[1;33m(\u001b[0m\u001b[0mins\u001b[0m\u001b[1;33m)\u001b[0m\u001b[1;33m\u001b[0m\u001b[0m\n\u001b[0m\u001b[0;32m   1218\u001b[0m         \u001b[1;32mreturn\u001b[0m \u001b[0munpack_singleton\u001b[0m\u001b[1;33m(\u001b[0m\u001b[0moutputs\u001b[0m\u001b[1;33m)\u001b[0m\u001b[1;33m\u001b[0m\u001b[0m\n\u001b[0;32m   1219\u001b[0m \u001b[1;33m\u001b[0m\u001b[0m\n",
      "\u001b[1;32mC:\\ProgramData\\Anaconda3\\lib\\site-packages\\keras\\backend\\tensorflow_backend.py\u001b[0m in \u001b[0;36m__call__\u001b[1;34m(self, inputs)\u001b[0m\n\u001b[0;32m   2713\u001b[0m                 \u001b[1;32mreturn\u001b[0m \u001b[0mself\u001b[0m\u001b[1;33m.\u001b[0m\u001b[0m_legacy_call\u001b[0m\u001b[1;33m(\u001b[0m\u001b[0minputs\u001b[0m\u001b[1;33m)\u001b[0m\u001b[1;33m\u001b[0m\u001b[0m\n\u001b[0;32m   2714\u001b[0m \u001b[1;33m\u001b[0m\u001b[0m\n\u001b[1;32m-> 2715\u001b[1;33m             \u001b[1;32mreturn\u001b[0m \u001b[0mself\u001b[0m\u001b[1;33m.\u001b[0m\u001b[0m_call\u001b[0m\u001b[1;33m(\u001b[0m\u001b[0minputs\u001b[0m\u001b[1;33m)\u001b[0m\u001b[1;33m\u001b[0m\u001b[0m\n\u001b[0m\u001b[0;32m   2716\u001b[0m         \u001b[1;32melse\u001b[0m\u001b[1;33m:\u001b[0m\u001b[1;33m\u001b[0m\u001b[0m\n\u001b[0;32m   2717\u001b[0m             \u001b[1;32mif\u001b[0m \u001b[0mpy_any\u001b[0m\u001b[1;33m(\u001b[0m\u001b[0mis_tensor\u001b[0m\u001b[1;33m(\u001b[0m\u001b[0mx\u001b[0m\u001b[1;33m)\u001b[0m \u001b[1;32mfor\u001b[0m \u001b[0mx\u001b[0m \u001b[1;32min\u001b[0m \u001b[0minputs\u001b[0m\u001b[1;33m)\u001b[0m\u001b[1;33m:\u001b[0m\u001b[1;33m\u001b[0m\u001b[0m\n",
      "\u001b[1;32mC:\\ProgramData\\Anaconda3\\lib\\site-packages\\keras\\backend\\tensorflow_backend.py\u001b[0m in \u001b[0;36m_call\u001b[1;34m(self, inputs)\u001b[0m\n\u001b[0;32m   2673\u001b[0m             \u001b[0mfetched\u001b[0m \u001b[1;33m=\u001b[0m \u001b[0mself\u001b[0m\u001b[1;33m.\u001b[0m\u001b[0m_callable_fn\u001b[0m\u001b[1;33m(\u001b[0m\u001b[1;33m*\u001b[0m\u001b[0marray_vals\u001b[0m\u001b[1;33m,\u001b[0m \u001b[0mrun_metadata\u001b[0m\u001b[1;33m=\u001b[0m\u001b[0mself\u001b[0m\u001b[1;33m.\u001b[0m\u001b[0mrun_metadata\u001b[0m\u001b[1;33m)\u001b[0m\u001b[1;33m\u001b[0m\u001b[0m\n\u001b[0;32m   2674\u001b[0m         \u001b[1;32melse\u001b[0m\u001b[1;33m:\u001b[0m\u001b[1;33m\u001b[0m\u001b[0m\n\u001b[1;32m-> 2675\u001b[1;33m             \u001b[0mfetched\u001b[0m \u001b[1;33m=\u001b[0m \u001b[0mself\u001b[0m\u001b[1;33m.\u001b[0m\u001b[0m_callable_fn\u001b[0m\u001b[1;33m(\u001b[0m\u001b[1;33m*\u001b[0m\u001b[0marray_vals\u001b[0m\u001b[1;33m)\u001b[0m\u001b[1;33m\u001b[0m\u001b[0m\n\u001b[0m\u001b[0;32m   2676\u001b[0m         \u001b[1;32mreturn\u001b[0m \u001b[0mfetched\u001b[0m\u001b[1;33m[\u001b[0m\u001b[1;33m:\u001b[0m\u001b[0mlen\u001b[0m\u001b[1;33m(\u001b[0m\u001b[0mself\u001b[0m\u001b[1;33m.\u001b[0m\u001b[0moutputs\u001b[0m\u001b[1;33m)\u001b[0m\u001b[1;33m]\u001b[0m\u001b[1;33m\u001b[0m\u001b[0m\n\u001b[0;32m   2677\u001b[0m \u001b[1;33m\u001b[0m\u001b[0m\n",
      "\u001b[1;32mC:\\ProgramData\\Anaconda3\\lib\\site-packages\\tensorflow\\python\\client\\session.py\u001b[0m in \u001b[0;36m__call__\u001b[1;34m(self, *args, **kwargs)\u001b[0m\n\u001b[0;32m   1397\u001b[0m           ret = tf_session.TF_SessionRunCallable(\n\u001b[0;32m   1398\u001b[0m               \u001b[0mself\u001b[0m\u001b[1;33m.\u001b[0m\u001b[0m_session\u001b[0m\u001b[1;33m.\u001b[0m\u001b[0m_session\u001b[0m\u001b[1;33m,\u001b[0m \u001b[0mself\u001b[0m\u001b[1;33m.\u001b[0m\u001b[0m_handle\u001b[0m\u001b[1;33m,\u001b[0m \u001b[0margs\u001b[0m\u001b[1;33m,\u001b[0m \u001b[0mstatus\u001b[0m\u001b[1;33m,\u001b[0m\u001b[1;33m\u001b[0m\u001b[0m\n\u001b[1;32m-> 1399\u001b[1;33m               run_metadata_ptr)\n\u001b[0m\u001b[0;32m   1400\u001b[0m         \u001b[1;32mif\u001b[0m \u001b[0mrun_metadata\u001b[0m\u001b[1;33m:\u001b[0m\u001b[1;33m\u001b[0m\u001b[0m\n\u001b[0;32m   1401\u001b[0m           \u001b[0mproto_data\u001b[0m \u001b[1;33m=\u001b[0m \u001b[0mtf_session\u001b[0m\u001b[1;33m.\u001b[0m\u001b[0mTF_GetBuffer\u001b[0m\u001b[1;33m(\u001b[0m\u001b[0mrun_metadata_ptr\u001b[0m\u001b[1;33m)\u001b[0m\u001b[1;33m\u001b[0m\u001b[0m\n",
      "\u001b[1;32mC:\\ProgramData\\Anaconda3\\lib\\site-packages\\tensorflow\\python\\framework\\errors_impl.py\u001b[0m in \u001b[0;36m__exit__\u001b[1;34m(self, type_arg, value_arg, traceback_arg)\u001b[0m\n\u001b[0;32m    524\u001b[0m             \u001b[1;32mNone\u001b[0m\u001b[1;33m,\u001b[0m \u001b[1;32mNone\u001b[0m\u001b[1;33m,\u001b[0m\u001b[1;33m\u001b[0m\u001b[0m\n\u001b[0;32m    525\u001b[0m             \u001b[0mcompat\u001b[0m\u001b[1;33m.\u001b[0m\u001b[0mas_text\u001b[0m\u001b[1;33m(\u001b[0m\u001b[0mc_api\u001b[0m\u001b[1;33m.\u001b[0m\u001b[0mTF_Message\u001b[0m\u001b[1;33m(\u001b[0m\u001b[0mself\u001b[0m\u001b[1;33m.\u001b[0m\u001b[0mstatus\u001b[0m\u001b[1;33m.\u001b[0m\u001b[0mstatus\u001b[0m\u001b[1;33m)\u001b[0m\u001b[1;33m)\u001b[0m\u001b[1;33m,\u001b[0m\u001b[1;33m\u001b[0m\u001b[0m\n\u001b[1;32m--> 526\u001b[1;33m             c_api.TF_GetCode(self.status.status))\n\u001b[0m\u001b[0;32m    527\u001b[0m     \u001b[1;31m# Delete the underlying status object from memory otherwise it stays alive\u001b[0m\u001b[1;33m\u001b[0m\u001b[1;33m\u001b[0m\u001b[0m\n\u001b[0;32m    528\u001b[0m     \u001b[1;31m# as there is a reference to status from this from the traceback due to\u001b[0m\u001b[1;33m\u001b[0m\u001b[1;33m\u001b[0m\u001b[0m\n",
      "\u001b[1;31mResourceExhaustedError\u001b[0m: OOM when allocating tensor with shape[8,64,224,224] and type float on /job:localhost/replica:0/task:0/device:GPU:0 by allocator GPU_0_bfc\n\t [[{{node block1_conv2_13/convolution}} = Conv2D[T=DT_FLOAT, _class=[\"loc:@train...propFilter\"], data_format=\"NCHW\", dilations=[1, 1, 1, 1], padding=\"SAME\", strides=[1, 1, 1, 1], use_cudnn_on_gpu=true, _device=\"/job:localhost/replica:0/task:0/device:GPU:0\"](block1_conv1_13/Relu, block1_conv2_13/kernel/read)]]\nHint: If you want to see a list of allocated tensors when OOM happens, add report_tensor_allocations_upon_oom to RunOptions for current allocation info.\n\n\t [[{{node metrics_13/f1/Mean/_10149}} = _Recv[client_terminated=false, recv_device=\"/job:localhost/replica:0/task:0/device:CPU:0\", send_device=\"/job:localhost/replica:0/task:0/device:GPU:0\", send_device_incarnation=1, tensor_name=\"edge_1792_metrics_13/f1/Mean\", tensor_type=DT_FLOAT, _device=\"/job:localhost/replica:0/task:0/device:CPU:0\"]()]]\nHint: If you want to see a list of allocated tensors when OOM happens, add report_tensor_allocations_upon_oom to RunOptions for current allocation info.\n"
     ]
    }
   ],
   "source": [
    "l2_arr = []\n",
    "f1_arr = []\n",
    "for i in range(1, -8, -1):\n",
    "    model = RetrainedClassificationModel('noname')\n",
    "    model.model = keras.models.load_model('first_model_rtm/2048.hd5')\n",
    "    bs = 8\n",
    "    l2 = 10**i\n",
    "    hst = model.train(bs, n_epoch=100, reduced_size=2048, l2_regularization=l2)\n",
    "    model.model.save('l2_' + str(l2) + '.hd5')\n",
    "    accs = model.eval(bs, reduced_size=2048, remove_nan=True)\n",
    "    l2_arr.append(l2)\n",
    "    f1_arr.append(accs[-1])"
   ]
  },
  {
   "cell_type": "code",
   "execution_count": 5,
   "metadata": {},
   "outputs": [],
   "source": [
    "from HyperparameterOptimization import findOptimalBatchSize"
   ]
  },
  {
   "cell_type": "code",
   "execution_count": 6,
   "metadata": {},
   "outputs": [
    {
     "name": "stdout",
     "output_type": "stream",
     "text": [
      "Testing batch size 8\n",
      "Epoch 1/1\n",
      "ResourceExhaustedError\n",
      "Testing batch size 4\n",
      "Epoch 1/1\n",
      "ResourceExhaustedError\n",
      "Testing batch size 2\n",
      "Epoch 1/1\n",
      "ResourceExhaustedError\n",
      "Testing batch size 1\n",
      "ResourceExhaustedError\n"
     ]
    },
    {
     "ename": "TypeError",
     "evalue": "list indices must be integers or slices, not NoneType",
     "output_type": "error",
     "traceback": [
      "\u001b[1;31m---------------------------------------------------------------------------\u001b[0m",
      "\u001b[1;31mTypeError\u001b[0m                                 Traceback (most recent call last)",
      "\u001b[1;32m<ipython-input-6-2369b21daef8>\u001b[0m in \u001b[0;36m<module>\u001b[1;34m()\u001b[0m\n\u001b[1;32m----> 1\u001b[1;33m \u001b[0mbs\u001b[0m \u001b[1;33m=\u001b[0m \u001b[0mfindOptimalBatchSize\u001b[0m\u001b[1;33m(\u001b[0m\u001b[0mmodel\u001b[0m\u001b[1;33m=\u001b[0m\u001b[0mmodel\u001b[0m\u001b[1;33m,\u001b[0m \u001b[0mn_epoch\u001b[0m\u001b[1;33m=\u001b[0m\u001b[1;36m1\u001b[0m\u001b[1;33m,\u001b[0m \u001b[0mmax_batch_size\u001b[0m\u001b[1;33m=\u001b[0m\u001b[1;36m8\u001b[0m\u001b[1;33m)\u001b[0m\u001b[1;33m\u001b[0m\u001b[0m\n\u001b[0m",
      "\u001b[1;32m~\\source\\machine learning\\Airbus-Ship-Detection-Challenge\\HyperparameterOptimization\\findOptimalBatchSize.py\u001b[0m in \u001b[0;36mfindOptimalBatchSize\u001b[1;34m(model, max_batch_size, n_epoch, save_excel, reduced_size)\u001b[0m\n\u001b[0;32m     46\u001b[0m         \u001b[0m_save_results_to_excel\u001b[0m\u001b[1;33m(\u001b[0m\u001b[0mmodel\u001b[0m\u001b[1;33m,\u001b[0m \u001b[0mruntime_arr\u001b[0m\u001b[1;33m,\u001b[0m \u001b[0mtested_current_batch_size_arr\u001b[0m\u001b[1;33m)\u001b[0m\u001b[1;33m\u001b[0m\u001b[0m\n\u001b[0;32m     47\u001b[0m \u001b[1;33m\u001b[0m\u001b[0m\n\u001b[1;32m---> 48\u001b[1;33m     \u001b[1;32mreturn\u001b[0m \u001b[0mtested_current_batch_size_arr\u001b[0m\u001b[1;33m[\u001b[0m\u001b[0mfastest_idx\u001b[0m\u001b[1;33m]\u001b[0m\u001b[1;33m\u001b[0m\u001b[0m\n\u001b[0m\u001b[0;32m     49\u001b[0m \u001b[1;33m\u001b[0m\u001b[0m\n\u001b[0;32m     50\u001b[0m \u001b[1;33m\u001b[0m\u001b[0m\n",
      "\u001b[1;31mTypeError\u001b[0m: list indices must be integers or slices, not NoneType"
     ]
    }
   ],
   "source": [
    "bs = findOptimalBatchSize(model=model, n_epoch=1, max_batch_size=8)"
   ]
  },
  {
   "cell_type": "code",
   "execution_count": 19,
   "metadata": {},
   "outputs": [
    {
     "data": {
      "image/png": "[encoded data removed]",
      "text/plain": [
       "<Figure size 432x288 with 1 Axes>"
      ]
     },
     "metadata": {},
     "output_type": "display_data"
    }
   ],
   "source": [
    "import matplotlib.pyplot as plt\n",
    "plt.xscale('log')\n",
    "plt.plot(l2_arr, f1_arr)\n",
    "plt.title('L2 regularization and F1 score (2048 images)')\n",
    "plt.savefig('l2_reg.png')"
   ]
  },
  {
   "cell_type": "code",
   "execution_count": 13,
   "metadata": {},
   "outputs": [
    {
     "data": {
      "text/plain": [
       "[10, 1, 0.1, 0.01, 0.001, 0.0001]"
      ]
     },
     "execution_count": 13,
     "metadata": {},
     "output_type": "execute_result"
    }
   ],
   "source": [
    "l2_arr"
   ]
  },
  {
   "cell_type": "code",
   "execution_count": null,
   "metadata": {},
   "outputs": [],
   "source": []
  }
 ],
 "metadata": {
  "kernelspec": {
   "display_name": "Python 3",
   "language": "python",
   "name": "python3"
  },
  "language_info": {
   "codemirror_mode": {
    "name": "ipython",
    "version": 3
   },
   "file_extension": ".py",
   "mimetype": "text/x-python",
   "name": "python",
   "nbconvert_exporter": "python",
   "pygments_lexer": "ipython3",
   "version": "3.6.5"
  }
 },
 "nbformat": 4,
 "nbformat_minor": 2
}
