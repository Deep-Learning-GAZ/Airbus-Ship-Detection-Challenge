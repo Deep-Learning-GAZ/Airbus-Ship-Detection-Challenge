{
 "cells": [
  {
   "cell_type": "code",
   "execution_count": 1,
   "metadata": {},
   "outputs": [
    {
     "name": "stderr",
     "output_type": "stream",
     "text": [
      "C:\\ProgramData\\Anaconda3\\lib\\site-packages\\h5py\\__init__.py:36: FutureWarning: Conversion of the second argument of issubdtype from `float` to `np.floating` is deprecated. In future, it will be treated as `np.float64 == np.dtype(float).type`.\n",
      "  from ._conv import register_converters as _register_converters\n",
      "Using TensorFlow backend.\n"
     ]
    }
   ],
   "source": [
    "from Model import SegNetModel, RetrainedClassificationModel\n",
    "from HyperparameterOptimization import findOptimalBatchSize"
   ]
  },
  {
   "cell_type": "code",
   "execution_count": 2,
   "metadata": {},
   "outputs": [
    {
     "name": "stderr",
     "output_type": "stream",
     "text": [
      "D:\\projects\\machine learning\\Airbus-Ship-Detection-Challenge\\Model\\RetrainedClassificationModel.py:33: UserWarning: Update your `Model` call to the Keras 2 API: `Model(inputs=Tensor(\"in..., outputs=Tensor(\"fl...)`\n",
      "  self.model = Model(input=model.input, output=predictions)\n"
     ]
    },
    {
     "name": "stdout",
     "output_type": "stream",
     "text": [
      "Testing batch size 64\n",
      "Epoch 1/1\n",
      "ResourceExhaustedError\n",
      "Testing batch size 32\n",
      "Epoch 1/1\n",
      "11/11 [==============================] - 18s 2s/step - loss: 0.4689 - val_loss: 0.1608\n",
      "Testing batch size 16\n",
      "Epoch 1/1\n",
      "22/22 [==============================] - 14s 640ms/step - loss: 0.1623 - val_loss: 0.1571\n",
      "Testing batch size 8\n",
      "Epoch 1/1\n",
      "44/44 [==============================] - 15s 338ms/step - loss: 0.1852 - val_loss: 0.1987\n"
     ]
    }
   ],
   "source": [
    "model = RetrainedClassificationModel('noname')\n",
    "bs = findOptimalBatchSize(model, 64)"
   ]
  },
  {
   "cell_type": "code",
   "execution_count": null,
   "metadata": {},
   "outputs": [
    {
     "name": "stdout",
     "output_type": "stream",
     "text": [
      "Epoch 1/100\n",
      "1868/1868 [==============================] - 1874s 1s/step - loss: 0.1326 - val_loss: 0.1403\n",
      "Epoch 2/100\n",
      "1868/1868 [==============================] - 1663s 890ms/step - loss: 0.1019 - val_loss: 0.0819\n",
      "Epoch 3/100\n",
      "1868/1868 [==============================] - 1583s 847ms/step - loss: 0.0799 - val_loss: 0.0796\n",
      "Epoch 4/100\n",
      "1868/1868 [==============================] - 1600s 856ms/step - loss: 0.1326 - val_loss: 0.1399\n",
      "Epoch 5/100\n",
      "1868/1868 [==============================] - 1620s 867ms/step - loss: 0.1397 - val_loss: 0.1397\n",
      "Epoch 6/100\n",
      "1868/1868 [==============================] - 1624s 870ms/step - loss: 0.1396 - val_loss: 0.1397\n",
      "Epoch 7/100\n",
      "1867/1868 [============================>.] - ETA: 0s - loss: 0.1396"
     ]
    }
   ],
   "source": [
    "hst = model.train(bs, n_epoch=100)"
   ]
  },
  {
   "cell_type": "code",
   "execution_count": null,
   "metadata": {},
   "outputs": [],
   "source": []
  }
 ],
 "metadata": {
  "kernelspec": {
   "display_name": "Python 3",
   "language": "python",
   "name": "python3"
  },
  "language_info": {
   "codemirror_mode": {
    "name": "ipython",
    "version": 3
   },
   "file_extension": ".py",
   "mimetype": "text/x-python",
   "name": "python",
   "nbconvert_exporter": "python",
   "pygments_lexer": "ipython3",
   "version": "3.6.5"
  }
 },
 "nbformat": 4,
 "nbformat_minor": 1
}
