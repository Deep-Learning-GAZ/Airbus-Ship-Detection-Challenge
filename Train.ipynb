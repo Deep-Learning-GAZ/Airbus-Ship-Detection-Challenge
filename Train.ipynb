{
 "cells": [
  {
   "cell_type": "code",
   "execution_count": 1,
   "metadata": {},
   "outputs": [
    {
     "name": "stderr",
     "output_type": "stream",
     "text": [
      "C:\\ProgramData\\Anaconda3\\lib\\site-packages\\h5py\\__init__.py:36: FutureWarning: Conversion of the second argument of issubdtype from `float` to `np.floating` is deprecated. In future, it will be treated as `np.float64 == np.dtype(float).type`.\n",
      "  from ._conv import register_converters as _register_converters\n",
      "Using TensorFlow backend.\n"
     ]
    }
   ],
   "source": [
    "from keras.utils.vis_utils import plot_model\n",
    "\n",
    "from model import segnet\n",
    "from getABSDData import getABSDDataMask"
   ]
  },
  {
   "cell_type": "code",
   "execution_count": 2,
   "metadata": {},
   "outputs": [],
   "source": [
    "n_classes = 1\n",
    "batch_size = 1\n",
    "train_gen, dev_gen, test_gen = getABSDDataMask(batch_size=batch_size)"
   ]
  },
  {
   "cell_type": "code",
   "execution_count": 6,
   "metadata": {
    "scrolled": false
   },
   "outputs": [
    {
     "name": "stdout",
     "output_type": "stream",
     "text": [
      "Done building decoder..\n",
      "_________________________________________________________________\n",
      "Layer (type)                 Output Shape              Param #   \n",
      "=================================================================\n",
      "input_3 (InputLayer)         (None, 768, 768, 3)       0         \n",
      "_________________________________________________________________\n",
      "conv2d_9 (Conv2D)            (None, 768, 768, 64)      1792      \n",
      "_________________________________________________________________\n",
      "batch_normalization_7 (Batch (None, 768, 768, 64)      256       \n",
      "_________________________________________________________________\n",
      "activation_9 (Activation)    (None, 768, 768, 64)      0         \n",
      "_________________________________________________________________\n",
      "conv2d_10 (Conv2D)           (None, 768, 768, 64)      36928     \n",
      "_________________________________________________________________\n",
      "batch_normalization_8 (Batch (None, 768, 768, 64)      256       \n",
      "_________________________________________________________________\n",
      "activation_10 (Activation)   (None, 768, 768, 64)      0         \n",
      "_________________________________________________________________\n",
      "conv2d_11 (Conv2D)           (None, 768, 768, 64)      36928     \n",
      "_________________________________________________________________\n",
      "batch_normalization_9 (Batch (None, 768, 768, 64)      256       \n",
      "_________________________________________________________________\n",
      "activation_11 (Activation)   (None, 768, 768, 64)      0         \n",
      "_________________________________________________________________\n",
      "conv2d_12 (Conv2D)           (None, 768, 768, 1)       65        \n",
      "_________________________________________________________________\n",
      "flatten_3 (Flatten)          (None, 589824)            0         \n",
      "_________________________________________________________________\n",
      "activation_12 (Activation)   (None, 589824)            0         \n",
      "=================================================================\n",
      "Total params: 76,481\n",
      "Trainable params: 76,097\n",
      "Non-trainable params: 384\n",
      "_________________________________________________________________\n",
      "None\n"
     ]
    }
   ],
   "source": [
    "model = segnet(input_shape=(768,768,3), n_labels=n_classes,\n",
    "            kernel=3, pool_size=(2,2), output_mode=\"softmax\")\n",
    "print(model.summary())\n",
    "# plot_model(model)"
   ]
  },
  {
   "cell_type": "code",
   "execution_count": 8,
   "metadata": {},
   "outputs": [
    {
     "name": "stdout",
     "output_type": "stream",
     "text": [
      "Epoch 1/2\n",
      "1/1 [==============================] - 1s 1s/step - loss: 0.0000e+00 - acc: 0.0000e+00\n",
      "Epoch 2/2\n",
      "1/1 [==============================] - 0s 322ms/step - loss: 0.0000e+00 - acc: 0.0000e+00\n"
     ]
    }
   ],
   "source": [
    "model.compile(loss=\"categorical_crossentropy\",\n",
    "            optimizer=\"adam\", metrics=[\"accuracy\"])\n",
    "\n",
    "n_iterations = 2\n",
    "model.fit_generator(train_gen, steps_per_epoch=1,\n",
    "            epochs=n_iterations)\n",
    "\n",
    "model.save_weights(\"weights.hdf5\")"
   ]
  },
  {
   "cell_type": "code",
   "execution_count": null,
   "metadata": {},
   "outputs": [],
   "source": []
  }
 ],
 "metadata": {
  "kernelspec": {
   "display_name": "Python 3",
   "language": "python",
   "name": "python3"
  },
  "language_info": {
   "codemirror_mode": {
    "name": "ipython",
    "version": 3
   },
   "file_extension": ".py",
   "mimetype": "text/x-python",
   "name": "python",
   "nbconvert_exporter": "python",
   "pygments_lexer": "ipython3",
   "version": "3.6.5"
  }
 },
 "nbformat": 4,
 "nbformat_minor": 1
}
