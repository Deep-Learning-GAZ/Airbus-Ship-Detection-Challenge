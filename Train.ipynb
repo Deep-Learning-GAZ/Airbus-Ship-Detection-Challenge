{
 "cells": [
  {
   "cell_type": "code",
   "execution_count": 1,
   "metadata": {},
   "outputs": [
    {
     "name": "stderr",
     "output_type": "stream",
     "text": [
      "C:\\ProgramData\\Anaconda3\\lib\\site-packages\\h5py\\__init__.py:36: FutureWarning: Conversion of the second argument of issubdtype from `float` to `np.floating` is deprecated. In future, it will be treated as `np.float64 == np.dtype(float).type`.\n",
      "  from ._conv import register_converters as _register_converters\n",
      "Using TensorFlow backend.\n"
     ]
    }
   ],
   "source": [
    "from Model import SegNetModel, RetrainedClassificationModel\n",
    "from HyperparameterOptimization import findOptimalBatchSize"
   ]
  },
  {
   "cell_type": "code",
   "execution_count": 2,
   "metadata": {},
   "outputs": [
    {
     "name": "stderr",
     "output_type": "stream",
     "text": [
      "D:\\projects\\machine learning\\Airbus-Ship-Detection-Challenge\\Model\\RetrainedClassificationModel.py:33: UserWarning: Update your `Model` call to the Keras 2 API: `Model(inputs=Tensor(\"in..., outputs=Tensor(\"fl...)`\n",
      "  self.model = Model(input=model.input, output=predictions)\n"
     ]
    },
    {
     "name": "stdout",
     "output_type": "stream",
     "text": [
      "Testing batch size 32\n",
      "Epoch 1/1\n",
      "11/11 [==============================] - 20s 2s/step - loss: 0.7295 - val_loss: 0.6881\n",
      "Testing batch size 16\n",
      "Epoch 1/1\n",
      "22/22 [==============================] - 14s 640ms/step - loss: 0.6832 - val_loss: 0.6776\n",
      "Testing batch size 8\n",
      "Epoch 1/1\n",
      "44/44 [==============================] - 15s 337ms/step - loss: 0.6674 - val_loss: 0.6566\n"
     ]
    }
   ],
   "source": [
    "model = RetrainedClassificationModel('noname')\n",
    "bs = findOptimalBatchSize(model)"
   ]
  },
  {
   "cell_type": "code",
   "execution_count": 3,
   "metadata": {},
   "outputs": [
    {
     "name": "stdout",
     "output_type": "stream",
     "text": [
      "Done building decoder..\n",
      "Testing batch size 32\n",
      "Epoch 1/1\n",
      "ResourceExhaustedError\n",
      "Testing batch size 16\n",
      "Epoch 1/1\n",
      "ResourceExhaustedError\n",
      "Testing batch size 8\n",
      "Epoch 1/1\n",
      "ResourceExhaustedError\n",
      "Testing batch size 4\n",
      "Epoch 1/1\n",
      "ResourceExhaustedError\n",
      "Testing batch size 2\n",
      "Epoch 1/1\n",
      "ResourceExhaustedError\n",
      "Testing batch size 1\n",
      "Epoch 1/1\n",
      "351/351 [==============================] - 99s 282ms/step - loss: 0.0556 - val_loss: 0.0538\n"
     ]
    }
   ],
   "source": [
    "model = SegNetModel('segnet')\n",
    "bs = findOptimalBatchSize(model)"
   ]
  },
  {
   "cell_type": "code",
   "execution_count": 4,
   "metadata": {},
   "outputs": [
    {
     "data": {
      "text/plain": [
       "1"
      ]
     },
     "execution_count": 4,
     "metadata": {},
     "output_type": "execute_result"
    }
   ],
   "source": [
    "bs"
   ]
  },
  {
   "cell_type": "code",
   "execution_count": null,
   "metadata": {},
   "outputs": [],
   "source": []
  }
 ],
 "metadata": {
  "kernelspec": {
   "display_name": "Python 3",
   "language": "python",
   "name": "python3"
  },
  "language_info": {
   "codemirror_mode": {
    "name": "ipython",
    "version": 3
   },
   "file_extension": ".py",
   "mimetype": "text/x-python",
   "name": "python",
   "nbconvert_exporter": "python",
   "pygments_lexer": "ipython3",
   "version": "3.6.5"
  }
 },
 "nbformat": 4,
 "nbformat_minor": 1
}
