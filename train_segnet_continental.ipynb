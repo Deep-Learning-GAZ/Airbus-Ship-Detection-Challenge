{
 "cells": [
  {
   "cell_type": "code",
   "execution_count": null,
   "metadata": {},
   "outputs": [],
   "source": [
    "train_images = os.path.join( \"data\" , \"train\", \"*.png\" )\n",
    "train_images = glob.glob( train_images )\n",
    "train_images.sort()\n",
    "\n",
    "train_labels = os.path.join(\"data\" , \"test\", \"*.png\" )\n",
    "train_labels = glob.glob( train_labels )\n",
    "train_labels.sort()\n",
    "\n",
    "assert len(train_images) == len(train_labels)"
   ]
  },
  {
   "cell_type": "code",
   "execution_count": null,
   "metadata": {},
   "outputs": [],
   "source": [
    "val_images = os.path.join( './CityScapes_data' , \"leftImg8bit\"   , \"val\" , \"*\" , \"*_leftImg8bit.png\" )\n",
    "val_images = glob.glob( val_images )\n",
    "val_images.sort()\n",
    "\n",
    "val_labels = os.path.join( './CityScapes_data' , \"gtFine\"   , \"val\" , \"*\" , \"*_labelIds.png\" )\n",
    "val_labels = glob.glob( val_labels )\n",
    "val_labels.sort()\n",
    "\n",
    "assert len(val_images) == len(val_labels)"
   ]
  },
  {
   "cell_type": "code",
   "execution_count": null,
   "metadata": {},
   "outputs": [],
   "source": [
    "import imageio\n",
    "from keras.applications import imagenet_utils\n",
    "def preprocess_input(x):\n",
    "    return imagenet_utils.preprocess_input(x, mode='tf')"
   ]
  },
  {
   "cell_type": "code",
   "execution_count": null,
   "metadata": {},
   "outputs": [],
   "source": [
    "def data_generator(images, labels, batch_size=2, dim=(768, 768), n_classes=2, shuffle=True):\n",
    "    # Initialization\n",
    "    data_size = len(images)\n",
    "    nbatches = data_size // batch_size\n",
    "    list_IDs = np.arange(data_size)\n",
    "    indices = list_IDs\n",
    "    \n",
    "    # Data generation\n",
    "    while True:\n",
    "        if shuffle == True:\n",
    "            np.random.shuffle(indices)\n",
    "        for index in range(nbatches):\n",
    "            batch_indices = indices[index*batch_size:(index+1)*batch_size]\n",
    "\n",
    "            X = np.empty((batch_size, *dim, 3))\n",
    "            y_semseg = np.empty((batch_size, *dim), dtype=int)\n",
    "\n",
    "            for i, ID in enumerate(batch_indices):\n",
    "                image = cv2.resize(np.array(imageio.imread(images[ID]), dtype=np.uint8), dim[1::-1])\n",
    "                label = cv2.resize(imageio.imread(labels[ID]), dim[1::-1], interpolation=cv2.INTER_NEAREST)\n",
    "                X[i,] = image\n",
    "                y_semseg[i] = label\n",
    "            yield (preprocess_input(X), to_categorical(y_semseg, num_classes=n_classes))"
   ]
  }
 ],
 "metadata": {
  "kernelspec": {
   "display_name": "Python 3",
   "language": "python",
   "name": "python3"
  },
  "language_info": {
   "codemirror_mode": {
    "name": "ipython",
    "version": 3
   },
   "file_extension": ".py",
   "mimetype": "text/x-python",
   "name": "python",
   "nbconvert_exporter": "python",
   "pygments_lexer": "ipython3",
   "version": "3.5.3"
  }
 },
 "nbformat": 4,
 "nbformat_minor": 2
}
